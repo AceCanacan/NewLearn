{
  "cells": [
    {
      "cell_type": "code",
      "execution_count": null,
      "metadata": {
        "colab": {
          "base_uri": "https://localhost:8080/"
        },
        "id": "CY6lOh0z6-So",
        "outputId": "eca6b35e-89f3-4b27-f625-150c05aecf67"
      },
      "outputs": [],
      "source": [
        "!pip install pdfkit --quiet\n",
        "!apt-get install -y wkhtmltopdf --quiet\n",
        "!pip install PyPDF2 --quiet\n",
        "!pip install tqdm --quiet\n",
        "!pip install llama-index llama-parse --quiet\n",
        "!pip install llama-index-vector-stores-pinecone --quiet\n",
        "!pip install PyMuPDF --quiet\n",
        "!pip install requests beautifulsoup4 pdfkit  --quiet\n",
        "!pip install llama-index-agent-openai --quiet\n",
        "!pip install llama-index-llms-openai --quiet\n",
        "!pip install llama-index --quiet"
      ]
    },
    {
      "cell_type": "markdown",
      "metadata": {
        "id": "qbXepJ2zws1o"
      },
      "source": [
        "# Setup"
      ]
    },
    {
      "cell_type": "code",
      "execution_count": null,
      "metadata": {
        "id": "t8PchFN8dBlH"
      },
      "outputs": [],
      "source": [
        "import os\n",
        "import requests\n",
        "import io\n",
        "import pdfkit\n",
        "import fitz  # PyMuPDF\n",
        "from tqdm.notebook import tqdm\n",
        "from bs4 import BeautifulSoup\n",
        "from IPython.display import Markdown, display\n",
        "import random\n",
        "import nest_asyncio\n",
        "from llama_parse import LlamaParse\n",
        "from llama_index.vector_stores.pinecone import PineconeVectorStore\n",
        "from llama_index.core import VectorStoreIndex, StorageContext, Document, SummaryIndex\n",
        "from llama_index.embeddings.openai import OpenAIEmbedding\n",
        "from llama_index.core.node_parser import SimpleNodeParser, SentenceSplitter\n",
        "from llama_index.llms.openai import OpenAI\n",
        "from pinecone import Pinecone, ServerlessSpec"
      ]
    },
    {
      "cell_type": "code",
      "execution_count": null,
      "metadata": {
        "id": "H-6nj4iZwt4A"
      },
      "outputs": [],
      "source": []
    },
    {
      "cell_type": "code",
      "execution_count": null,
      "metadata": {
        "id": "9wO2247U4bte"
      },
      "outputs": [],
      "source": [
        "os.environ[\"OPENAI_API_KEY\"] = \"sk-proj-ccOo3JXmy0uUY29D3pKyT3BlbkFJKuYzjzVkpD4tkEwkCQZM\"\n",
        "\n",
        "os.environ[\"PINECONE_API_KEY\"] = \"c0681ba1-c767-42fe-b5c7-b4fdd9c5c438\"\n",
        "\n",
        "api_key = os.environ[\"PINECONE_API_KEY\"]\n",
        "\n",
        "pc = Pinecone(api_key=api_key)"
      ]
    },
    {
      "cell_type": "markdown",
      "metadata": {
        "id": "79tZjHIn57GF"
      },
      "source": [
        "# Loading"
      ]
    },
    {
      "cell_type": "code",
      "execution_count": null,
      "metadata": {
        "id": "MPvrOtJv2gjU"
      },
      "outputs": [],
      "source": [
        "# List of URLs to scrape\n",
        "url_parts = [\n",
        "    \"8\", \"Aiah\", \"Anagolay_(Born_To_Win)\", \"BINI\", \"BINI/Gallery\",\n",
        "    \"BINI:_The_Launch\", \"BINI_Wiki\", \"BLOOM_(Fandom)\", \"B_HU_U_R\",\n",
        "    \"Born_To_Win\", \"Born_To_Win_(Album)\", \"Born_To_Win_(song)\",\n",
        "    \"Born_To_Win_%3D_Bahasa_Indonesia_Version\", \"Born_To_Win_%3D_Japanese_Version\",\n",
        "    \"Born_To_Win_%3D_Spanish_Version\", \"Born_To_Win_%3D_Thai_Version\",\n",
        "    \"Born_To_Win_Maxi\", \"Colet\", \"Da_Coconut_Nut\", \"Feel_Good_(Album)\",\n",
        "    \"G22\", \"Golden_Arrow\", \"Gwen\", \"Here_With_You\", \"Huwag_Muna_Tayong_Umuwi\",\n",
        "    \"I_Feel_Good\", \"Jhoanna\", \"Kapit_Lang\", \"Karera\", \"Kinikilig\",\n",
        "    \"Lagi\", \"Lian_Kyla\", \"List_of_BINI_Performances\", \"Main_Page\", \"Maloi\",\n",
        "    \"Maloi/Gallery\", \"Mayari_(Born_To_Win)\", \"Mikha\", \"Na_Na_Na\", \"No_Fear\",\n",
        "    \"One_Dream:_The_BINI-BGYO_Journey\", \"Pantropiko\", \"SAB\", \"Sheena\",\n",
        "    \"Sodop_(Born_To_Win)\", \"Stacey\", \"Star_Hunt_Academy\", \"Star_Hunt_Trainee_TV\",\n",
        "    \"Strings\", \"Strings_-_Dance_ver.\", \"Zero_World_(Born_To_Win)\"\n",
        "]\n",
        "\n",
        "# Function to generate full URLs\n",
        "def generate_urls(base_url, parts):\n",
        "    return [f\"{base_url}{part}\" for part in parts]\n",
        "\n",
        "# Base URL\n",
        "base_url = \"https://bini.fandom.com/wiki/\"\n",
        "\n",
        "# Generate full URLs\n",
        "urls = generate_urls(base_url, url_parts)"
      ]
    },
    {
      "cell_type": "code",
      "execution_count": null,
      "metadata": {
        "colab": {
          "base_uri": "https://localhost:8080/",
          "height": 81,
          "referenced_widgets": [
            "8308e7496953425da5c51658cd517828",
            "fc80ee312ecd4470aa706f7d4123d4b6",
            "d829d94163bb49368a0fbdd18c7d23f1",
            "d20f928f44c3457ca07ed5ad69536d0f",
            "6d35769d8dc8438a9649b1c27f80ffd6",
            "005cab1b437942e59159ef0d34e1ee5b",
            "9bcf711c8f9645efa5ec41ffb955c4c1",
            "e8b84de5fae647dc917c453226b8c9d2",
            "684ddddde59f48bc84c054e448397426",
            "6deb31aa55ad4d25a500d625ea80dbeb",
            "9c63dd39138342feb79632b14cfe8ff1",
            "db1f57fb49d546818b4e16e0c9d1729b",
            "183d4d961a2b4e66a2b5499b97b4bfe4",
            "3be1f0d6e2ba4437a6727b21e340f211",
            "cbf9f742b62a42ceac7440aa543c227d",
            "b036936738974711bbc8cc23668381a0",
            "072432ea48bd4931a3c994be742c794c",
            "ad27a5cddf264277868b30fb0b401950",
            "47d406637b5c43c584a9bf2adad193a1",
            "cacf9fbcb3564e12afb5fb7f66d33d04",
            "922d3efc02c74a289314ede4e518f8f2",
            "f0744ffe98354b0b9ee6251dadf54aa3"
          ]
        },
        "id": "gj9OtOUsF6_S",
        "outputId": "d04f5771-8e72-49b9-e150-dd2e95af2047"
      },
      "outputs": [
        {
          "data": {
            "application/vnd.jupyter.widget-view+json": {
              "model_id": "8308e7496953425da5c51658cd517828",
              "version_major": 2,
              "version_minor": 0
            },
            "text/plain": [
              "Scraping URLs for text:   0%|          | 0/51 [00:00<?, ?it/s]"
            ]
          },
          "metadata": {},
          "output_type": "display_data"
        },
        {
          "data": {
            "application/vnd.jupyter.widget-view+json": {
              "model_id": "db1f57fb49d546818b4e16e0c9d1729b",
              "version_major": 2,
              "version_minor": 0
            },
            "text/plain": [
              "Converting text to PDFs:   0%|          | 0/51 [00:00<?, ?it/s]"
            ]
          },
          "metadata": {},
          "output_type": "display_data"
        }
      ],
      "source": [
        "# Create a directory to save individual text files\n",
        "os.makedirs(\"text_data\", exist_ok=True)\n",
        "\n",
        "# Function to extract text from a URL using BeautifulSoup\n",
        "def extract_text_from_url(url):\n",
        "    response = requests.get(url)\n",
        "    soup = BeautifulSoup(response.content, 'html.parser')\n",
        "\n",
        "    # Find the main content area\n",
        "    content_div = soup.find('div', {'class': 'mw-parser-output'})\n",
        "    if content_div:\n",
        "        text = content_div.get_text(separator='\\n', strip=True)\n",
        "        return text\n",
        "    return \"\"\n",
        "\n",
        "# Scrape text from each URL and save it to a text file, with a progress bar\n",
        "text_files = []\n",
        "for i, url in enumerate(tqdm(urls, desc=\"Scraping URLs for text\")):\n",
        "    text_filename = f\"text_data/page_{i+1}.txt\"\n",
        "    text = extract_text_from_url(url)\n",
        "    with open(text_filename, 'w', encoding='utf-8') as file:\n",
        "        file.write(text)\n",
        "    text_files.append(text_filename)\n",
        "\n",
        "# Convert each text file to a PDF\n",
        "os.makedirs(\"data\", exist_ok=True)\n",
        "pdf_files = []\n",
        "for i, text_file in enumerate(tqdm(text_files, desc=\"Converting text to PDFs\")):\n",
        "    pdf_filename = f\"data/page_{i+1}.pdf\"\n",
        "    pdfkit.from_file(text_file, pdf_filename)\n",
        "    pdf_files.append(pdf_filename)"
      ]
    },
    {
      "cell_type": "markdown",
      "metadata": {
        "id": "S5dn5-UFLKVp"
      },
      "source": [
        "# Loading with LlamaParse"
      ]
    },
    {
      "cell_type": "code",
      "execution_count": null,
      "metadata": {
        "id": "42OIzaBALPKC"
      },
      "outputs": [],
      "source": [
        "# Apply nest_asyncio to allow nested event loops (useful in Jupyter/Colab notebooks)\n",
        "nest_asyncio.apply()\n",
        "\n",
        "# Initialize LlamaParse with necessary parameters\n",
        "parser = LlamaParse(\n",
        "    api_key=\"llx-V4Rrgehs2Y89rvxzhu7HGkwTH8P9NQnu7WmkovId3ow1UkiO\",  # Replace with your actual API key\n",
        "    result_type=\"text\",  # \"markdown\" and \"text\" are available\n",
        "    verbose=False,  # Set to False to reduce verbosity\n",
        "    language=\"en\",  # Optionally you can define a language, default=en\n",
        ")"
      ]
    },
    {
      "cell_type": "code",
      "execution_count": null,
      "metadata": {
        "colab": {
          "base_uri": "https://localhost:8080/",
          "height": 1000,
          "referenced_widgets": [
            "9038065223cf441aa88cc68bd1e16e7a",
            "4aa4826c3d004216a4db3681c8f2c512",
            "7d51439f872f435589690ae006ac3768",
            "c3343d029a574540b4a5dc0a6f8fc5cb",
            "851afccacf484b6bba253d1071e59b09",
            "361131c42bbd48a58489af01b338b996",
            "fbc7e44e4c274e75b7b4ee78af81e476",
            "59d548052eb44c66a0f55254e711f893",
            "7e035d38ccc5401399dc391affb3d943",
            "b01abfe204cc4d5a8d934455d13c42df",
            "b556ee467b4a4aa08fd2705acb6bf239"
          ]
        },
        "id": "vmRrzn6_xFUO",
        "outputId": "97cd2c29-aa41-466b-faf6-b7acf8a685e7"
      },
      "outputs": [
        {
          "data": {
            "application/vnd.jupyter.widget-view+json": {
              "model_id": "9038065223cf441aa88cc68bd1e16e7a",
              "version_major": 2,
              "version_minor": 0
            },
            "text/plain": [
              "Processing documents:   0%|          | 0/51 [00:00<?, ?it/s]"
            ]
          },
          "metadata": {},
          "output_type": "display_data"
        },
        {
          "name": "stderr",
          "output_type": "stream",
          "text": [
            "\n",
            "Parsing files:   0%|          | 0/1 [00:00<?, ?it/s]\u001b[A\n",
            "Parsing files: 100%|██████████| 1/1 [00:19<00:00, 19.95s/it]\n",
            "\n",
            "Parsing files:   0%|          | 0/1 [00:00<?, ?it/s]\u001b[A\n",
            "Parsing files: 100%|██████████| 1/1 [00:06<00:00,  6.26s/it]\n",
            "\n",
            "Parsing files:   0%|          | 0/1 [00:00<?, ?it/s]\u001b[A\n",
            "Parsing files: 100%|██████████| 1/1 [00:12<00:00, 12.74s/it]\n",
            "\n",
            "Parsing files:   0%|          | 0/1 [00:00<?, ?it/s]\u001b[A\n",
            "Parsing files: 100%|██████████| 1/1 [00:19<00:00, 19.07s/it]\n",
            "\n",
            "Parsing files:   0%|          | 0/1 [00:00<?, ?it/s]\u001b[A\n",
            "Parsing files: 100%|██████████| 1/1 [00:10<00:00, 10.59s/it]\n",
            "\n",
            "Parsing files:   0%|          | 0/1 [00:00<?, ?it/s]\u001b[A\n",
            "Parsing files: 100%|██████████| 1/1 [00:21<00:00, 21.58s/it]\n",
            "\n",
            "Parsing files:   0%|          | 0/1 [00:00<?, ?it/s]\u001b[A\n",
            "Parsing files: 100%|██████████| 1/1 [00:04<00:00,  4.27s/it]\n",
            "\n",
            "Parsing files:   0%|          | 0/1 [00:00<?, ?it/s]\u001b[A\n",
            "Parsing files: 100%|██████████| 1/1 [00:06<00:00,  6.26s/it]\n",
            "\n",
            "Parsing files:   0%|          | 0/1 [00:00<?, ?it/s]\u001b[A\n",
            "Parsing files: 100%|██████████| 1/1 [00:21<00:00, 21.49s/it]\n",
            "\n",
            "Parsing files:   0%|          | 0/1 [00:00<?, ?it/s]\u001b[A\n",
            "Parsing files: 100%|██████████| 1/1 [00:17<00:00, 17.00s/it]\n",
            "\n",
            "Parsing files:   0%|          | 0/1 [00:00<?, ?it/s]\u001b[A\n",
            "Parsing files: 100%|██████████| 1/1 [00:04<00:00,  4.04s/it]\n",
            "\n",
            "Parsing files:   0%|          | 0/1 [00:00<?, ?it/s]\u001b[A\n",
            "Parsing files: 100%|██████████| 1/1 [00:01<00:00,  1.82s/it]\n",
            "\n",
            "Parsing files:   0%|          | 0/1 [00:00<?, ?it/s]\u001b[A\n",
            "Parsing files: 100%|██████████| 1/1 [00:19<00:00, 19.23s/it]\n",
            "\n",
            "Parsing files:   0%|          | 0/1 [00:00<?, ?it/s]\u001b[A\n",
            "Parsing files: 100%|██████████| 1/1 [00:32<00:00, 32.02s/it]\n",
            "\n",
            "Parsing files:   0%|          | 0/1 [00:00<?, ?it/s]\u001b[A\n",
            "Parsing files: 100%|██████████| 1/1 [00:14<00:00, 14.90s/it]\n",
            "\n",
            "Parsing files:   0%|          | 0/1 [00:00<?, ?it/s]\u001b[A\n",
            "Parsing files: 100%|██████████| 1/1 [00:12<00:00, 12.69s/it]\n",
            "\n",
            "Parsing files:   0%|          | 0/1 [00:00<?, ?it/s]\u001b[A\n",
            "Parsing files: 100%|██████████| 1/1 [00:04<00:00,  4.12s/it]\n",
            "\n",
            "Parsing files:   0%|          | 0/1 [00:00<?, ?it/s]\u001b[A\n",
            "Parsing files: 100%|██████████| 1/1 [00:10<00:00, 10.45s/it]\n",
            "\n",
            "Parsing files:   0%|          | 0/1 [00:00<?, ?it/s]\u001b[A\n",
            "Parsing files: 100%|██████████| 1/1 [00:01<00:00,  1.84s/it]\n",
            "\n",
            "Parsing files:   0%|          | 0/1 [00:00<?, ?it/s]\u001b[A\n",
            "Parsing files: 100%|██████████| 1/1 [00:01<00:00,  1.83s/it]\n",
            "\n",
            "Parsing files:   0%|          | 0/1 [00:00<?, ?it/s]\u001b[A\n",
            "Parsing files: 100%|██████████| 1/1 [00:01<00:00,  1.84s/it]\n",
            "\n",
            "Parsing files:   0%|          | 0/1 [00:00<?, ?it/s]\u001b[A\n",
            "Parsing files: 100%|██████████| 1/1 [00:01<00:00,  1.81s/it]\n",
            "\n",
            "Parsing files:   0%|          | 0/1 [00:00<?, ?it/s]\u001b[A\n",
            "Parsing files: 100%|██████████| 1/1 [00:14<00:00, 14.78s/it]\n",
            "\n",
            "Parsing files:   0%|          | 0/1 [00:00<?, ?it/s]\u001b[A\n",
            "Parsing files: 100%|██████████| 1/1 [00:17<00:00, 17.06s/it]\n",
            "\n",
            "Parsing files:   0%|          | 0/1 [00:00<?, ?it/s]\u001b[A\n",
            "Parsing files: 100%|██████████| 1/1 [00:25<00:00, 25.94s/it]\n",
            "\n",
            "Parsing files:   0%|          | 0/1 [00:00<?, ?it/s]\u001b[A\n",
            "Parsing files: 100%|██████████| 1/1 [00:14<00:00, 14.77s/it]\n",
            "\n",
            "Parsing files:   0%|          | 0/1 [00:00<?, ?it/s]\u001b[A\n",
            "Parsing files: 100%|██████████| 1/1 [00:08<00:00,  8.70s/it]\n",
            "\n",
            "Parsing files:   0%|          | 0/1 [00:00<?, ?it/s]\u001b[A\n",
            "Parsing files: 100%|██████████| 1/1 [00:26<00:00, 26.01s/it]\n",
            "\n",
            "Parsing files:   0%|          | 0/1 [00:00<?, ?it/s]\u001b[A\n",
            "Parsing files: 100%|██████████| 1/1 [00:19<00:00, 19.14s/it]\n",
            "\n",
            "Parsing files:   0%|          | 0/1 [00:00<?, ?it/s]\u001b[A\n",
            "Parsing files: 100%|██████████| 1/1 [00:17<00:00, 17.00s/it]\n",
            "\n",
            "Parsing files:   0%|          | 0/1 [00:00<?, ?it/s]\u001b[A\n",
            "Parsing files: 100%|██████████| 1/1 [00:01<00:00,  1.85s/it]\n",
            "\n",
            "Parsing files:   0%|          | 0/1 [00:00<?, ?it/s]\u001b[A\n",
            "Parsing files: 100%|██████████| 1/1 [00:23<00:00, 23.47s/it]\n",
            "\n",
            "Parsing files:   0%|          | 0/1 [00:00<?, ?it/s]\u001b[A\n",
            "Parsing files: 100%|██████████| 1/1 [00:23<00:00, 23.51s/it]\n",
            "\n",
            "Parsing files:   0%|          | 0/1 [00:00<?, ?it/s]\u001b[A\n",
            "Parsing files: 100%|██████████| 1/1 [00:19<00:00, 19.71s/it]\n",
            "\n",
            "Parsing files:   0%|          | 0/1 [00:00<?, ?it/s]\u001b[A\n",
            "Parsing files: 100%|██████████| 1/1 [00:06<00:00,  6.58s/it]\n",
            "\n",
            "Parsing files:   0%|          | 0/1 [00:00<?, ?it/s]\u001b[A\n",
            "Parsing files: 100%|██████████| 1/1 [00:01<00:00,  1.89s/it]\n",
            "\n",
            "Parsing files:   0%|          | 0/1 [00:00<?, ?it/s]\u001b[A\n",
            "Parsing files: 100%|██████████| 1/1 [00:01<00:00,  1.85s/it]\n",
            "\n",
            "Parsing files:   0%|          | 0/1 [00:00<?, ?it/s]\u001b[A\n",
            "Parsing files: 100%|██████████| 1/1 [00:19<00:00, 19.65s/it]\n",
            "\n",
            "Parsing files:   0%|          | 0/1 [00:00<?, ?it/s]\u001b[A\n",
            "Parsing files: 100%|██████████| 1/1 [00:23<00:00, 23.42s/it]\n",
            "\n",
            "Parsing files:   0%|          | 0/1 [00:00<?, ?it/s]\u001b[A\n",
            "Parsing files: 100%|██████████| 1/1 [00:19<00:00, 19.24s/it]\n",
            "\n",
            "Parsing files:   0%|          | 0/1 [00:00<?, ?it/s]\u001b[A\n",
            "Parsing files: 100%|██████████| 1/1 [00:12<00:00, 12.59s/it]\n",
            "\n",
            "Parsing files:   0%|          | 0/1 [00:00<?, ?it/s]\u001b[A\n",
            "Parsing files: 100%|██████████| 1/1 [00:21<00:00, 21.67s/it]\n",
            "\n",
            "Parsing files:   0%|          | 0/1 [00:00<?, ?it/s]\u001b[A\n",
            "Parsing files: 100%|██████████| 1/1 [00:21<00:00, 21.21s/it]\n",
            "\n",
            "Parsing files:   0%|          | 0/1 [00:00<?, ?it/s]\u001b[A\n",
            "Parsing files: 100%|██████████| 1/1 [00:21<00:00, 21.38s/it]\n",
            "\n",
            "Parsing files:   0%|          | 0/1 [00:00<?, ?it/s]\u001b[A\n",
            "Parsing files: 100%|██████████| 1/1 [00:25<00:00, 25.28s/it]\n",
            "\n",
            "Parsing files:   0%|          | 0/1 [00:00<?, ?it/s]\u001b[A\n",
            "Parsing files: 100%|██████████| 1/1 [00:08<00:00,  8.34s/it]\n",
            "\n",
            "Parsing files:   0%|          | 0/1 [00:00<?, ?it/s]\u001b[A\n",
            "Parsing files: 100%|██████████| 1/1 [00:25<00:00, 25.67s/it]\n",
            "\n",
            "Parsing files:   0%|          | 0/1 [00:00<?, ?it/s]\u001b[A\n",
            "Parsing files: 100%|██████████| 1/1 [00:25<00:00, 25.19s/it]\n",
            "\n",
            "Parsing files:   0%|          | 0/1 [00:00<?, ?it/s]\u001b[A\n",
            "Parsing files: 100%|██████████| 1/1 [00:19<00:00, 19.02s/it]\n",
            "\n",
            "Parsing files:   0%|          | 0/1 [00:00<?, ?it/s]\u001b[A\n",
            "Parsing files: 100%|██████████| 1/1 [00:34<00:00, 34.37s/it]\n",
            "\n",
            "Parsing files:   0%|          | 0/1 [00:00<?, ?it/s]\u001b[A\n",
            "Parsing files: 100%|██████████| 1/1 [00:19<00:00, 19.18s/it]\n"
          ]
        }
      ],
      "source": [
        "# Define the directory containing the PDF files\n",
        "data_directory = \"/content/data\"\n",
        "\n",
        "# List all PDF files in the directory\n",
        "document_paths = [os.path.join(data_directory, file) for file in os.listdir(data_directory) if file.endswith(\".pdf\")]\n",
        "\n",
        "# Initialize an empty list to store the processed documents\n",
        "processed_documents = []\n",
        "\n",
        "# Process each document with a single progress bar\n",
        "for document_path in tqdm(document_paths, desc=\"Processing documents\"):\n",
        "    document = parser.load_data([document_path])\n",
        "    processed_documents.extend(document)"
      ]
    },
    {
      "cell_type": "code",
      "execution_count": null,
      "metadata": {
        "colab": {
          "base_uri": "https://localhost:8080/",
          "height": 295
        },
        "id": "GrR_-h9Ue6mL",
        "outputId": "5643bc74-bd69-4274-e416-ecf5181a0755"
      },
      "outputs": [
        {
          "name": "stdout",
          "output_type": "stream",
          "text": [
            "Total number of documents: 51\n",
            "Randomly selected document 27:\n",
            "\n"
          ]
        },
        {
          "data": {
            "text/plain": [
              "Document(id_='93e15b45-89ff-4ae9-b3ab-265ff9347b7c', embedding=None, metadata={}, excluded_embed_metadata_keys=[], excluded_llm_metadata_keys=[], relationships={}, text='BLOOM (Fandom)\\nType\\nFandom\\nFounded\\nFebruary 13, 2021\\nFounder\\nBINI\\nLocation\\nPhilippines\\nBLOOM\\n(stylized as\\nBLâˆžM\\n) is the official fandom name for the Filipino girl group BINI.\\nName\\n[\\n]\\nThe word Bloom, defined as the blossoming state of a flower, was coined by a fan with the meaning, \"A lovely reminder of\\nBINI\\'s story and journey. It stands for the beginning of springtime, that there\\'s always beauty after every cold trial.\"\\nThe\\nâˆž\\n(Infinity) sign incorporated in the fandom name is BINI\\'s official hand sign, symbolizing the number \"8\", which is the number\\nof BINI members and inspired their chant\\n\"walo hanggang dulo\"\\n(eight until the end).\\nFounding\\n[\\n]\\nOn February 13, 2021, BINI had a livestream on Facebook with the caption \"BINI Special Announcement\". In the live the members\\nvoted for the fandom name entries of fans which was open for submissions for over a week. Out of all entries, the members\\nagreed that \"Bloom\" would be the official fandom name.\\nUsage\\n[\\n]\\nBLOOM\\n- used as the collective term for BINI\\'s fandom; singular term.\\nBLOOMS\\n- used for addressing BINI fans; plural term.', start_char_idx=None, end_char_idx=None, text_template='{metadata_str}\\n\\n{content}', metadata_template='{key}: {value}', metadata_seperator='\\n')"
            ]
          },
          "metadata": {},
          "output_type": "display_data"
        }
      ],
      "source": [
        "# Display the total number of documents\n",
        "total_documents = len(processed_documents)\n",
        "print(f\"Total number of documents: {total_documents}\")\n",
        "\n",
        "# Randomly select one document to print\n",
        "random_index = random.randint(0, total_documents - 1)\n",
        "print(f\"Randomly selected document {random_index + 1}:\\n\")\n",
        "display(processed_documents[random_index])"
      ]
    },
    {
      "cell_type": "markdown",
      "metadata": {
        "id": "Eh1_fV_7T2uT"
      },
      "source": [
        "# Preparing Storing"
      ]
    },
    {
      "cell_type": "code",
      "execution_count": null,
      "metadata": {
        "id": "umjyDLqdlBhP"
      },
      "outputs": [],
      "source": [
        "node_parser = SimpleNodeParser()\n",
        "\n",
        "nodes = node_parser.get_nodes_from_documents(processed_documents)"
      ]
    },
    {
      "cell_type": "code",
      "execution_count": null,
      "metadata": {
        "colab": {
          "base_uri": "https://localhost:8080/",
          "height": 1000
        },
        "id": "A3wfrcoiv8DV",
        "outputId": "340bc443-c6b1-45fc-ef9a-b31cd4522679"
      },
      "outputs": [
        {
          "name": "stdout",
          "output_type": "stream",
          "text": [
            "Number of nodes parsed: 88\n",
            "\n",
            "Node 0 details:\n"
          ]
        },
        {
          "data": {
            "text/plain": [
              "TextNode(id_='837b8c85-34f6-4102-b7cb-4bfe06552c53', embedding=None, metadata={}, excluded_embed_metadata_keys=[], excluded_llm_metadata_keys=[], relationships={<NodeRelationship.SOURCE: '1'>: RelatedNodeInfo(node_id='31c4d0ec-bfa0-4e09-98f1-9cdf24a7d9e2', node_type=<ObjectType.DOCUMENT: '4'>, metadata={}, hash='851c21589e01def141b1e08772fba782655761285ccfa710dd7c2b54f7c336c3'), <NodeRelationship.NEXT: '3'>: RelatedNodeInfo(node_id='8f12b855-0ead-4fa1-88f9-4e838c209e7e', node_type=<ObjectType.TEXT: '1'>, metadata={}, hash='5c213ed0859ecc33c73a43c296c51add0c2e2edd0be654c8a58d07c2906c2dab')}, text='Golden Arrow\\nArtist(s)\\nBINI\\nReleased\\nOctober 12, 2021\\nGenre\\nOPM, EDM\\nLength\\n3:47\\nLyrics\\nSabine Cerrado a.k.a\\nSAB\\nComposer\\nSabine Cerrado a.k.a\\nSAB\\nArranger\\nTheo Martel\\nProducer\\nJonathan Manalo\\nStar Music\\n\"Golden Arrow\"\\nis the fourth official single of\\nBINI\\n. It was released on October 14, 2021 at 07:00 pm PHT as the carrier single of their first album titled\\n\"\\nBorn To Win\\n\"\\nThe lyrics were written by singer-songwriter\\nSAB\\naka Sabine Cerrado, with the rap lyrics written by BINI members\\nAiah Arceta\\n,\\nMikha Lim\\n,\\nStacey Sevilla\\nand\\nColet Vergara\\n. The recording of the song was done by\\nJonathan Manalo\\nat The Purple Room while the mixing and mastering were done by\\nTheo Martel\\n. The vocal arrangement were done by Anna Achacoso-Graham & Jonathan Manalo.\\nContents\\n1\\nBackground and Release\\n2\\nAudio\\n2.1\\nSpotify\\n2.2\\nYoutube\\n3\\nLyrics\\n4\\nVideos\\n5\\nCredits\\n6\\nNavigation\\nBackground and Release\\n[\\n]\\n\"Golden Arrow\" is the second track and the carrier single in BINI\\'s Born To Win Album. The official music video of \"Golden\\nArrow\" was released on October 14, 2021, along with the whole album and the rest of the tracks on Spotify, Youtube Music,\\nApple Music and more than 30 digital streaming platforms worldwide.\\nThe track charted at number 1 on Itunes Philippines a day after its release and the music video reached 100,000 views after\\n24 hours of its release.', start_char_idx=0, end_char_idx=1352, text_template='{metadata_str}\\n\\n{content}', metadata_template='{key}: {value}', metadata_seperator='\\n')"
            ]
          },
          "metadata": {},
          "output_type": "display_data"
        },
        {
          "name": "stdout",
          "output_type": "stream",
          "text": [
            "\n",
            "Node 1 details:\n"
          ]
        },
        {
          "data": {
            "text/plain": [
              "TextNode(id_='8f12b855-0ead-4fa1-88f9-4e838c209e7e', embedding=None, metadata={}, excluded_embed_metadata_keys=[], excluded_llm_metadata_keys=[], relationships={<NodeRelationship.SOURCE: '1'>: RelatedNodeInfo(node_id='31c4d0ec-bfa0-4e09-98f1-9cdf24a7d9e2', node_type=<ObjectType.DOCUMENT: '4'>, metadata={}, hash='851c21589e01def141b1e08772fba782655761285ccfa710dd7c2b54f7c336c3'), <NodeRelationship.PREVIOUS: '2'>: RelatedNodeInfo(node_id='837b8c85-34f6-4102-b7cb-4bfe06552c53', node_type=<ObjectType.TEXT: '1'>, metadata={}, hash='1b7aba2c72ac3a02cf9b1066625b6a2a82e2a82b6a46f11ba8341db5b27caacc'), <NodeRelationship.NEXT: '3'>: RelatedNodeInfo(node_id='2dcd046a-ca3d-4d42-b279-b7a3566e0caa', node_type=<ObjectType.TEXT: '1'>, metadata={}, hash='20c080b1fc1720c031c43adf730bc2fe51b6ff9ffb1c3d0c04603ae6fc48617c')}, text='The vocal arrangement were done by Anna Achacoso-Graham & Jonathan Manalo.\\nContents\\n1\\nBackground and Release\\n2\\nAudio\\n2.1\\nSpotify\\n2.2\\nYoutube\\n3\\nLyrics\\n4\\nVideos\\n5\\nCredits\\n6\\nNavigation\\nBackground and Release\\n[\\n]\\n\"Golden Arrow\" is the second track and the carrier single in BINI\\'s Born To Win Album. The official music video of \"Golden\\nArrow\" was released on October 14, 2021, along with the whole album and the rest of the tracks on Spotify, Youtube Music,\\nApple Music and more than 30 digital streaming platforms worldwide.\\nThe track charted at number 1 on Itunes Philippines a day after its release and the music video reached 100,000 views after\\n24 hours of its release.\\nAudio\\n[\\n]\\nSpotify\\n[\\n]\\nYoutube\\n[\\n]\\nLyrics\\n[\\n]\\nAiah\\nColet\\nGwen\\nJhoanna\\nMaloi\\nMikha\\nSheena\\nStacey\\nENG\\nEnglish\\nAlright\\nHey yeah\\nLet\\'s go\\nThink I\\'ve lost my keys again\\nMadness out the door\\n---\\nIt\\'s a friday night\\nI\\'m wishing for a little more\\nUnder streetlights 8pm\\nLet\\'s make this one count\\nNo one else but me and my girls\\nRunning this whole town\\nGrab the ice cream go turn the clock\\nDance \\'til midnight no body knock\\nEverybody watch out\\nA storm is coming your way\\nWarning signs and flashing lights\\nAll of the cliches\\nFeeling a little nervous\\nWith this moment in our hands\\nGot nothing to worry about\\nTime to take the chance\\nWe got, we got, we got\\nTonight to borrow\\nWe got, we got, we got\\nThis golden arrow\\nGrab the ice cream go turn the clock\\nDance \\'til midnight no body knock\\nWe got, we got, we got\\nThis golden arrow\\nI like it\\nLet\\'s go\\nYou can bet we own the world\\nCrown is on our heads\\nGo check out the rules and see\\nNothing to be said\\nIn our own world 1am\\nPerfect harmony\\nNo one else but me and my girls\\nMaking our legacy\\nGrab the ice cream go turn the clock\\nDance \\'til midnight no body knock\\nEverybody watch out\\nA storm is coming your way\\nWarning signs and flashing lights\\nAll of the cliches\\nFeeling a little nervous\\nWith this moment in our hands\\nGot nothing to worry about\\nTime to take the chance\\nWe got, we got, we got\\nTonight to borrow\\nWe got, we got, we got\\nThis golden arrow\\nGrab the ice cream go turn the clock\\nDance \\'til midnight no body knock\\nWe got, we got, we got\\nThis golden arrow\\nI gotta take a minute\\nGotta catch my breath\\nI don\\'t care about these limits\\nReady for your tests\\nI got no time, no dime for nothing else\\nI\\'ve got beauty, got strength\\nI\\'m the \"Beast\" to my \"Belle\"\\nNow it\\'s my time to\\nPierce my way through\\nWith this golden arrow ain\\'t ever be wasted\\nYeah I\\'m pushing and pushing\\nWhen I\\'m on the edge\\nHuh, fightin\\' and fightin\\'\\n\\'Til I got nothin\\' left\\nI g-g-gotta just be carefree\\nJust ignore the bad energy\\nNobody can stop me\\n\\'Cause that star belongs to me\\nI placed the crown on my head\\nAnd told my self\\nThis is my shot, watch me\\nI can make it, I can do it\\n(\\nThat\\'s right\\n)\\nWorking hard to get to the top\\nHope is on the horizon\\nWe BINI ain\\'t gonna stop\\nTake your aim, make your mark\\nFix your eyes on the prize\\nDon\\'t stop believing hold the feeling\\nThis fire within is why we\\'re born to win\\nWoah ohh\\nWoah ohh\\nWe got, we got, we got\\nTonight to borrow\\n(\\nWe got tonight\\n)\\nWe got, we got, we got\\nThis golden arrow\\n(\\nThis golden arrow\\n---\\n)\\nGrab the ice cream go turn the clock\\n(\\nYeah, yeah\\n)\\nDance \\'til midnight no body knock\\n(\\nYeah, yeah\\n)\\nWe got, we got, we got\\nThis golden arrow\\nWe got, we got, we got\\nTonight to borrow\\n(\\nYeah, yeah\\n)\\nWe got, we got, we got\\nThis golden arrow\\n(\\nWe got this arrow woah ohh\\n)\\nGrab the ice cream go turn the clock\\nDance \\'til midnight no body knock\\nWe got, we got, we got\\nThis golden arrow\\nVideos\\n[\\n]\\nMusic Video\\nTeasers\\nPerformance Videos\\nDance Practice Video\\nGolden Arrow Music Video\\nTeaser 1\\nTeaser 2\\nGolden Arrow ASAP Performance\\nGolden Arrow MTV Asia Spotlight\\nGolden Arrow Performance Video\\nGolden Arrow Dance Practice\\nCredits\\n[\\n]\\nMUSIC PRODUCTION\\nGolden Arrow\\nPerformed by BINI\\nWords & Music by: Sabine Cerrado\\nAdditional Rap Lyrics by: Maraiah Queen Arceta, Mikhaela Janna Lim, Stacey Aubrey Sevilleja, Ma.', start_char_idx=682, end_char_idx=4619, text_template='{metadata_str}\\n\\n{content}', metadata_template='{key}: {value}', metadata_seperator='\\n')"
            ]
          },
          "metadata": {},
          "output_type": "display_data"
        },
        {
          "name": "stdout",
          "output_type": "stream",
          "text": [
            "\n",
            "Node 2 details:\n"
          ]
        },
        {
          "data": {
            "text/plain": [
              "TextNode(id_='2dcd046a-ca3d-4d42-b279-b7a3566e0caa', embedding=None, metadata={}, excluded_embed_metadata_keys=[], excluded_llm_metadata_keys=[], relationships={<NodeRelationship.SOURCE: '1'>: RelatedNodeInfo(node_id='31c4d0ec-bfa0-4e09-98f1-9cdf24a7d9e2', node_type=<ObjectType.DOCUMENT: '4'>, metadata={}, hash='851c21589e01def141b1e08772fba782655761285ccfa710dd7c2b54f7c336c3'), <NodeRelationship.PREVIOUS: '2'>: RelatedNodeInfo(node_id='8f12b855-0ead-4fa1-88f9-4e838c209e7e', node_type=<ObjectType.TEXT: '1'>, metadata={}, hash='5c213ed0859ecc33c73a43c296c51add0c2e2edd0be654c8a58d07c2906c2dab')}, text='Nicolette Vergara\\nArranged by Theo Martel\\nMixed & Mastered by Tim Recla\\nAll Vocals Recorded & Produced by: Jonathan Manalo at The Purple Room\\nVocal Arrangement by: Jonathan Manalo and Anna Achacoso-Graham\\nOver-all Production by: Jonathan Manalo\\nSTAR MUSIC AND MARKETING TEAM\\nStar Music Digital Production Team\\nDigital Content Producer: Jaliza Baluyut\\nDigital Support Specialist: Ice Almazan\\nHead, Digital Content Production: William Garcia\\nMusic Marketing and Promo Head: Jeff Victoria\\nDigital Music Marketing Team Lead: Naomi Enriquez\\nMusic Marketing Specialist: Clarisse Evaristo\\nPublished by Star Songs\\nHead, Star Songs and New Media: Atty Marivic Benedicto\\nOfficer, Music Publishing: Beth Faustino\\nSpecialist, Music Publishing: Ma. Luisa Ponceca\\nDigital Publisher: Jam Esquillo\\nLabel Head: Mela Ballano\\nCreative Director: Jonathan Manalo\\nExecutive Producer: Roxy Liquigan\\nDANCE CHOREOGRAPHY\\nChoreography byÂ : Michael Perz and Matthew Almodovar\\nMUSIC VIDEO PRODUCTION\\nConcept and Production: YouMeUs MNL\\nDirector, Lighting Director: Amiel Kirby Balagtas\\nProduction Manager: Xavier Alfonso\\nCreative Producer, Assistant Director, BTS: Edgar Dale Recina\\nStoryboard Artist, Teasers: Donna Rey\\nDOP (B), 2nd camera, Offline Editor (B), Online Editor (A), VFX Artist: Jireh Bacasno\\nDOP (A), 1st camera, Offline Editor (A), Online Editor (B), VFX Artist (B), Colorist: Jonathan Penarejo\\nProps: Alanis Manantan\\nDrone Pilot: Mark Essex Javillonar\\nTEAM BINI\\nHead, Entertainment Production & Star Magic: Laurenti M. Dyogi\\nBusiness Head: Raymund G. Dizon\\nHead, Star Hunt Academy: MQ Mallari\\nExecutive Producer: Jovy Aberion\\nCreative Head & Social Media Manager: Jean Chiu\\nHead Dance Coach: Mickey Perz\\nDance Coach: Matthew Almodovar\\nVocal Coach: Anna Achacoso-Graham\\nMultimedia Producer: Beneice Ventenilla\\nRoad Managers: Jannis Juanico & Maan Manauis\\nVisual Director: Ica Villanueva\\nMakeup: Carell Garcia & Teresa Padin\\nHairÂ : Jan Edrosolan & Cristine Benoman\\nStyling AssistantÂ : France Torres\\n---\\nMarketing & Strategy: Brand Up (Abelle Lacuesta, Marty Go & Ram Viola)\\nNavigation\\n[\\n]\\nView\\n-\\nEdit\\nAiah\\nâ€¢\\nColet\\nâ€¢\\nGwen\\nâ€¢\\nJhoanna\\nâ€¢\\nMaloi\\nâ€¢\\nMikha\\nâ€¢\\nSheena\\nâ€¢\\nStacey\\nDiscography\\nRevival Singles\\nDa Coconut Nut\\nDigital Singles\\nBorn To Win\\nâ€¢\\nKapit Lang\\nâ€¢\\nGolden Arrow\\nâ€¢\\nNa Na Na\\nâ€¢\\nPit A Pat\\nâ€¢\\nLagi\\nâ€¢\\nI Feel Good\\nâ€¢\\nStrings\\nâ€¢\\nKarera\\nâ€¢\\nPantropiko\\nâ€¢\\nSalamin Salamin\\nâ€¢\\nStudio Album\\nBorn To Win (Album)\\nâ€¢\\nFeel Good (Album)\\nâ€¢\\nTalaarawan (Album)\\nâ€¢\\nConcert\\nDebut Event\\nBINI: The Launch\\nConcerts\\nOne Dream: The BINI & BGYO Concert\\nâ€¢\\nBINIverse: The First Solo Concert\\nAlbum Showcase\\nFeel Good: Album Showcase\\nOthers\\nAgencies\\nABS-CBN Entertainment\\nâ€¢\\nStar Magic\\nâ€¢\\nStar Music\\nâ€¢\\nStar Hunt Academy\\nOfficial Links\\nFacebook\\nâ€¢\\nTwitter\\n/\\nMembers\\nâ€¢\\nInstagram\\nâ€¢\\nYoutube\\nâ€¢\\nTiktok', start_char_idx=4620, end_char_idx=7419, text_template='{metadata_str}\\n\\n{content}', metadata_template='{key}: {value}', metadata_seperator='\\n')"
            ]
          },
          "metadata": {},
          "output_type": "display_data"
        }
      ],
      "source": [
        "# Print the number of nodes parsed\n",
        "print(f\"Number of nodes parsed: {len(nodes)}\")\n",
        "\n",
        "# Print details of the first few nodes to inspect their structure\n",
        "for i, node in enumerate(nodes[:3]):  # Adjust the range if needed\n",
        "    print(f\"\\nNode {i} details:\")\n",
        "    display(node)"
      ]
    },
    {
      "cell_type": "code",
      "execution_count": null,
      "metadata": {
        "colab": {
          "base_uri": "https://localhost:8080/",
          "height": 495
        },
        "id": "7t6ddgFET6lj",
        "outputId": "de4bb9af-173f-411a-93b2-6d67c7f8366a"
      },
      "outputs": [
        {
          "ename": "PineconeApiException",
          "evalue": "(409)\nReason: Conflict\nHTTP response headers: HTTPHeaderDict({'content-type': 'text/plain; charset=utf-8', 'x-pinecone-api-version': '2024-04', 'access-control-allow-origin': '*', 'vary': 'origin,access-control-request-method,access-control-request-headers', 'access-control-expose-headers': '*', 'X-Cloud-Trace-Context': '08bbfbf9347f6fb78f8ed42374e5520b', 'Date': 'Fri, 17 May 2024 15:42:40 GMT', 'Server': 'Google Frontend', 'Content-Length': '85', 'Via': '1.1 google', 'Alt-Svc': 'h3=\":443\"; ma=2592000,h3-29=\":443\"; ma=2592000'})\nHTTP response body: {\"error\":{\"code\":\"ALREADY_EXISTS\",\"message\":\"Resource  already exists\"},\"status\":409}\n",
          "output_type": "error",
          "traceback": [
            "\u001b[0;31m---------------------------------------------------------------------------\u001b[0m",
            "\u001b[0;31mPineconeApiException\u001b[0m                      Traceback (most recent call last)",
            "\u001b[0;32m<ipython-input-59-0b8ef7bf7a94>\u001b[0m in \u001b[0;36m<cell line: 16>\u001b[0;34m()\u001b[0m\n\u001b[1;32m     14\u001b[0m \u001b[0;34m\u001b[0m\u001b[0m\n\u001b[1;32m     15\u001b[0m \u001b[0;31m# Usage\u001b[0m\u001b[0;34m\u001b[0m\u001b[0;34m\u001b[0m\u001b[0m\n\u001b[0;32m---> 16\u001b[0;31m create_index_if_not_exists(\n\u001b[0m\u001b[1;32m     17\u001b[0m     \u001b[0mindex_name\u001b[0m\u001b[0;34m=\u001b[0m\u001b[0;34m\"bini\"\u001b[0m\u001b[0;34m,\u001b[0m\u001b[0;34m\u001b[0m\u001b[0;34m\u001b[0m\u001b[0m\n\u001b[1;32m     18\u001b[0m     \u001b[0mdimension\u001b[0m\u001b[0;34m=\u001b[0m\u001b[0;36m1536\u001b[0m\u001b[0;34m,\u001b[0m\u001b[0;34m\u001b[0m\u001b[0;34m\u001b[0m\u001b[0m\n",
            "\u001b[0;32m<ipython-input-59-0b8ef7bf7a94>\u001b[0m in \u001b[0;36mcreate_index_if_not_exists\u001b[0;34m(index_name, dimension, metric, spec)\u001b[0m\n\u001b[1;32m      3\u001b[0m     \u001b[0mexisting_indexes\u001b[0m \u001b[0;34m=\u001b[0m \u001b[0mpc\u001b[0m\u001b[0;34m.\u001b[0m\u001b[0mlist_indexes\u001b[0m\u001b[0;34m(\u001b[0m\u001b[0;34m)\u001b[0m\u001b[0;34m\u001b[0m\u001b[0;34m\u001b[0m\u001b[0m\n\u001b[1;32m      4\u001b[0m     \u001b[0;32mif\u001b[0m \u001b[0mindex_name\u001b[0m \u001b[0;32mnot\u001b[0m \u001b[0;32min\u001b[0m \u001b[0mexisting_indexes\u001b[0m\u001b[0;34m:\u001b[0m\u001b[0;34m\u001b[0m\u001b[0;34m\u001b[0m\u001b[0m\n\u001b[0;32m----> 5\u001b[0;31m         pc.create_index(\n\u001b[0m\u001b[1;32m      6\u001b[0m             \u001b[0mname\u001b[0m\u001b[0;34m=\u001b[0m\u001b[0mindex_name\u001b[0m\u001b[0;34m,\u001b[0m\u001b[0;34m\u001b[0m\u001b[0;34m\u001b[0m\u001b[0m\n\u001b[1;32m      7\u001b[0m             \u001b[0mdimension\u001b[0m\u001b[0;34m=\u001b[0m\u001b[0mdimension\u001b[0m\u001b[0;34m,\u001b[0m\u001b[0;34m\u001b[0m\u001b[0;34m\u001b[0m\u001b[0m\n",
            "\u001b[0;32m/usr/local/lib/python3.10/dist-packages/pinecone/control/pinecone.py\u001b[0m in \u001b[0;36mcreate_index\u001b[0;34m(self, name, dimension, spec, metric, timeout)\u001b[0m\n\u001b[1;32m    277\u001b[0m             \u001b[0mapi_instance\u001b[0m\u001b[0;34m.\u001b[0m\u001b[0mcreate_index\u001b[0m\u001b[0;34m(\u001b[0m\u001b[0mcreate_index_request\u001b[0m\u001b[0;34m=\u001b[0m\u001b[0mCreateIndexRequest\u001b[0m\u001b[0;34m(\u001b[0m\u001b[0mname\u001b[0m\u001b[0;34m=\u001b[0m\u001b[0mname\u001b[0m\u001b[0;34m,\u001b[0m \u001b[0mdimension\u001b[0m\u001b[0;34m=\u001b[0m\u001b[0mdimension\u001b[0m\u001b[0;34m,\u001b[0m \u001b[0mmetric\u001b[0m\u001b[0;34m=\u001b[0m\u001b[0mmetric\u001b[0m\u001b[0;34m,\u001b[0m \u001b[0mspec\u001b[0m\u001b[0;34m=\u001b[0m\u001b[0mspec\u001b[0m\u001b[0;34m)\u001b[0m\u001b[0;34m)\u001b[0m\u001b[0;34m\u001b[0m\u001b[0;34m\u001b[0m\u001b[0m\n\u001b[1;32m    278\u001b[0m         \u001b[0;32melif\u001b[0m \u001b[0misinstance\u001b[0m\u001b[0;34m(\u001b[0m\u001b[0mspec\u001b[0m\u001b[0;34m,\u001b[0m \u001b[0mServerlessSpec\u001b[0m\u001b[0;34m)\u001b[0m\u001b[0;34m:\u001b[0m\u001b[0;34m\u001b[0m\u001b[0;34m\u001b[0m\u001b[0m\n\u001b[0;32m--> 279\u001b[0;31m             \u001b[0mapi_instance\u001b[0m\u001b[0;34m.\u001b[0m\u001b[0mcreate_index\u001b[0m\u001b[0;34m(\u001b[0m\u001b[0mcreate_index_request\u001b[0m\u001b[0;34m=\u001b[0m\u001b[0mCreateIndexRequest\u001b[0m\u001b[0;34m(\u001b[0m\u001b[0mname\u001b[0m\u001b[0;34m=\u001b[0m\u001b[0mname\u001b[0m\u001b[0;34m,\u001b[0m \u001b[0mdimension\u001b[0m\u001b[0;34m=\u001b[0m\u001b[0mdimension\u001b[0m\u001b[0;34m,\u001b[0m \u001b[0mmetric\u001b[0m\u001b[0;34m=\u001b[0m\u001b[0mmetric\u001b[0m\u001b[0;34m,\u001b[0m \u001b[0mspec\u001b[0m\u001b[0;34m=\u001b[0m\u001b[0mspec\u001b[0m\u001b[0;34m.\u001b[0m\u001b[0masdict\u001b[0m\u001b[0;34m(\u001b[0m\u001b[0;34m)\u001b[0m\u001b[0;34m)\u001b[0m\u001b[0;34m)\u001b[0m\u001b[0;34m\u001b[0m\u001b[0;34m\u001b[0m\u001b[0m\n\u001b[0m\u001b[1;32m    280\u001b[0m         \u001b[0;32melif\u001b[0m \u001b[0misinstance\u001b[0m\u001b[0;34m(\u001b[0m\u001b[0mspec\u001b[0m\u001b[0;34m,\u001b[0m \u001b[0mPodSpec\u001b[0m\u001b[0;34m)\u001b[0m\u001b[0;34m:\u001b[0m\u001b[0;34m\u001b[0m\u001b[0;34m\u001b[0m\u001b[0m\n\u001b[1;32m    281\u001b[0m             \u001b[0mapi_instance\u001b[0m\u001b[0;34m.\u001b[0m\u001b[0mcreate_index\u001b[0m\u001b[0;34m(\u001b[0m\u001b[0mcreate_index_request\u001b[0m\u001b[0;34m=\u001b[0m\u001b[0mCreateIndexRequest\u001b[0m\u001b[0;34m(\u001b[0m\u001b[0mname\u001b[0m\u001b[0;34m=\u001b[0m\u001b[0mname\u001b[0m\u001b[0;34m,\u001b[0m \u001b[0mdimension\u001b[0m\u001b[0;34m=\u001b[0m\u001b[0mdimension\u001b[0m\u001b[0;34m,\u001b[0m \u001b[0mmetric\u001b[0m\u001b[0;34m=\u001b[0m\u001b[0mmetric\u001b[0m\u001b[0;34m,\u001b[0m \u001b[0mspec\u001b[0m\u001b[0;34m=\u001b[0m\u001b[0mspec\u001b[0m\u001b[0;34m.\u001b[0m\u001b[0masdict\u001b[0m\u001b[0;34m(\u001b[0m\u001b[0;34m)\u001b[0m\u001b[0;34m)\u001b[0m\u001b[0;34m)\u001b[0m\u001b[0;34m\u001b[0m\u001b[0;34m\u001b[0m\u001b[0m\n",
            "\u001b[0;32m/usr/local/lib/python3.10/dist-packages/pinecone/core/client/api_client.py\u001b[0m in \u001b[0;36m__call__\u001b[0;34m(self, *args, **kwargs)\u001b[0m\n\u001b[1;32m    770\u001b[0m \u001b[0;34m\u001b[0m\u001b[0m\n\u001b[1;32m    771\u001b[0m         \"\"\"\n\u001b[0;32m--> 772\u001b[0;31m         \u001b[0;32mreturn\u001b[0m \u001b[0mself\u001b[0m\u001b[0;34m.\u001b[0m\u001b[0mcallable\u001b[0m\u001b[0;34m(\u001b[0m\u001b[0mself\u001b[0m\u001b[0;34m,\u001b[0m \u001b[0;34m*\u001b[0m\u001b[0margs\u001b[0m\u001b[0;34m,\u001b[0m \u001b[0;34m**\u001b[0m\u001b[0mkwargs\u001b[0m\u001b[0;34m)\u001b[0m\u001b[0;34m\u001b[0m\u001b[0;34m\u001b[0m\u001b[0m\n\u001b[0m\u001b[1;32m    773\u001b[0m \u001b[0;34m\u001b[0m\u001b[0m\n\u001b[1;32m    774\u001b[0m     \u001b[0;32mdef\u001b[0m \u001b[0mcall_with_http_info\u001b[0m\u001b[0;34m(\u001b[0m\u001b[0mself\u001b[0m\u001b[0;34m,\u001b[0m \u001b[0;34m**\u001b[0m\u001b[0mkwargs\u001b[0m\u001b[0;34m)\u001b[0m\u001b[0;34m:\u001b[0m\u001b[0;34m\u001b[0m\u001b[0;34m\u001b[0m\u001b[0m\n",
            "\u001b[0;32m/usr/local/lib/python3.10/dist-packages/pinecone/core/client/api/manage_indexes_api.py\u001b[0m in \u001b[0;36m__create_index\u001b[0;34m(self, create_index_request, **kwargs)\u001b[0m\n\u001b[1;32m    369\u001b[0m             \u001b[0mkwargs\u001b[0m\u001b[0;34m[\u001b[0m\u001b[0;34m'create_index_request'\u001b[0m\u001b[0;34m]\u001b[0m \u001b[0;34m=\u001b[0m\u001b[0;31m \u001b[0m\u001b[0;31m\\\u001b[0m\u001b[0;34m\u001b[0m\u001b[0;34m\u001b[0m\u001b[0m\n\u001b[1;32m    370\u001b[0m                 \u001b[0mcreate_index_request\u001b[0m\u001b[0;34m\u001b[0m\u001b[0;34m\u001b[0m\u001b[0m\n\u001b[0;32m--> 371\u001b[0;31m             \u001b[0;32mreturn\u001b[0m \u001b[0mself\u001b[0m\u001b[0;34m.\u001b[0m\u001b[0mcall_with_http_info\u001b[0m\u001b[0;34m(\u001b[0m\u001b[0;34m**\u001b[0m\u001b[0mkwargs\u001b[0m\u001b[0;34m)\u001b[0m\u001b[0;34m\u001b[0m\u001b[0;34m\u001b[0m\u001b[0m\n\u001b[0m\u001b[1;32m    372\u001b[0m \u001b[0;34m\u001b[0m\u001b[0m\n\u001b[1;32m    373\u001b[0m         self.create_index = _Endpoint(\n",
            "\u001b[0;32m/usr/local/lib/python3.10/dist-packages/pinecone/core/client/api_client.py\u001b[0m in \u001b[0;36mcall_with_http_info\u001b[0;34m(self, **kwargs)\u001b[0m\n\u001b[1;32m    832\u001b[0m             \u001b[0mparams\u001b[0m\u001b[0;34m[\u001b[0m\u001b[0;34m'header'\u001b[0m\u001b[0;34m]\u001b[0m\u001b[0;34m[\u001b[0m\u001b[0;34m'Content-Type'\u001b[0m\u001b[0;34m]\u001b[0m \u001b[0;34m=\u001b[0m \u001b[0mheader_list\u001b[0m\u001b[0;34m\u001b[0m\u001b[0;34m\u001b[0m\u001b[0m\n\u001b[1;32m    833\u001b[0m \u001b[0;34m\u001b[0m\u001b[0m\n\u001b[0;32m--> 834\u001b[0;31m         return self.api_client.call_api(\n\u001b[0m\u001b[1;32m    835\u001b[0m             \u001b[0mself\u001b[0m\u001b[0;34m.\u001b[0m\u001b[0msettings\u001b[0m\u001b[0;34m[\u001b[0m\u001b[0;34m'endpoint_path'\u001b[0m\u001b[0;34m]\u001b[0m\u001b[0;34m,\u001b[0m \u001b[0mself\u001b[0m\u001b[0;34m.\u001b[0m\u001b[0msettings\u001b[0m\u001b[0;34m[\u001b[0m\u001b[0;34m'http_method'\u001b[0m\u001b[0;34m]\u001b[0m\u001b[0;34m,\u001b[0m\u001b[0;34m\u001b[0m\u001b[0;34m\u001b[0m\u001b[0m\n\u001b[1;32m    836\u001b[0m             \u001b[0mparams\u001b[0m\u001b[0;34m[\u001b[0m\u001b[0;34m'path'\u001b[0m\u001b[0;34m]\u001b[0m\u001b[0;34m,\u001b[0m\u001b[0;34m\u001b[0m\u001b[0;34m\u001b[0m\u001b[0m\n",
            "\u001b[0;32m/usr/local/lib/python3.10/dist-packages/pinecone/core/client/api_client.py\u001b[0m in \u001b[0;36mcall_api\u001b[0;34m(self, resource_path, method, path_params, query_params, header_params, body, post_params, files, response_type, auth_settings, async_req, _return_http_data_only, collection_formats, _preload_content, _request_timeout, _host, _check_type)\u001b[0m\n\u001b[1;32m    407\u001b[0m         \"\"\"\n\u001b[1;32m    408\u001b[0m         \u001b[0;32mif\u001b[0m \u001b[0;32mnot\u001b[0m \u001b[0masync_req\u001b[0m\u001b[0;34m:\u001b[0m\u001b[0;34m\u001b[0m\u001b[0;34m\u001b[0m\u001b[0m\n\u001b[0;32m--> 409\u001b[0;31m             return self.__call_api(resource_path, method,\n\u001b[0m\u001b[1;32m    410\u001b[0m                                    \u001b[0mpath_params\u001b[0m\u001b[0;34m,\u001b[0m \u001b[0mquery_params\u001b[0m\u001b[0;34m,\u001b[0m \u001b[0mheader_params\u001b[0m\u001b[0;34m,\u001b[0m\u001b[0;34m\u001b[0m\u001b[0;34m\u001b[0m\u001b[0m\n\u001b[1;32m    411\u001b[0m                                    \u001b[0mbody\u001b[0m\u001b[0;34m,\u001b[0m \u001b[0mpost_params\u001b[0m\u001b[0;34m,\u001b[0m \u001b[0mfiles\u001b[0m\u001b[0;34m,\u001b[0m\u001b[0;34m\u001b[0m\u001b[0;34m\u001b[0m\u001b[0m\n",
            "\u001b[0;32m/usr/local/lib/python3.10/dist-packages/pinecone/core/client/api_client.py\u001b[0m in \u001b[0;36m__call_api\u001b[0;34m(self, resource_path, method, path_params, query_params, header_params, body, post_params, files, response_type, auth_settings, _return_http_data_only, collection_formats, _preload_content, _request_timeout, _host, _check_type)\u001b[0m\n\u001b[1;32m    201\u001b[0m         \u001b[0;32mexcept\u001b[0m \u001b[0mPineconeApiException\u001b[0m \u001b[0;32mas\u001b[0m \u001b[0me\u001b[0m\u001b[0;34m:\u001b[0m\u001b[0;34m\u001b[0m\u001b[0;34m\u001b[0m\u001b[0m\n\u001b[1;32m    202\u001b[0m             \u001b[0me\u001b[0m\u001b[0;34m.\u001b[0m\u001b[0mbody\u001b[0m \u001b[0;34m=\u001b[0m \u001b[0me\u001b[0m\u001b[0;34m.\u001b[0m\u001b[0mbody\u001b[0m\u001b[0;34m.\u001b[0m\u001b[0mdecode\u001b[0m\u001b[0;34m(\u001b[0m\u001b[0;34m'utf-8'\u001b[0m\u001b[0;34m)\u001b[0m\u001b[0;34m\u001b[0m\u001b[0;34m\u001b[0m\u001b[0m\n\u001b[0;32m--> 203\u001b[0;31m             \u001b[0;32mraise\u001b[0m \u001b[0me\u001b[0m\u001b[0;34m\u001b[0m\u001b[0;34m\u001b[0m\u001b[0m\n\u001b[0m\u001b[1;32m    204\u001b[0m \u001b[0;34m\u001b[0m\u001b[0m\n\u001b[1;32m    205\u001b[0m         \u001b[0mself\u001b[0m\u001b[0;34m.\u001b[0m\u001b[0mlast_response\u001b[0m \u001b[0;34m=\u001b[0m \u001b[0mresponse_data\u001b[0m\u001b[0;34m\u001b[0m\u001b[0;34m\u001b[0m\u001b[0m\n",
            "\u001b[0;32m/usr/local/lib/python3.10/dist-packages/pinecone/core/client/api_client.py\u001b[0m in \u001b[0;36m__call_api\u001b[0;34m(self, resource_path, method, path_params, query_params, header_params, body, post_params, files, response_type, auth_settings, _return_http_data_only, collection_formats, _preload_content, _request_timeout, _host, _check_type)\u001b[0m\n\u001b[1;32m    194\u001b[0m         \u001b[0;32mtry\u001b[0m\u001b[0;34m:\u001b[0m\u001b[0;34m\u001b[0m\u001b[0;34m\u001b[0m\u001b[0m\n\u001b[1;32m    195\u001b[0m             \u001b[0;31m# perform request and return response\u001b[0m\u001b[0;34m\u001b[0m\u001b[0;34m\u001b[0m\u001b[0m\n\u001b[0;32m--> 196\u001b[0;31m             response_data = self.request(\n\u001b[0m\u001b[1;32m    197\u001b[0m                 \u001b[0mmethod\u001b[0m\u001b[0;34m,\u001b[0m \u001b[0murl\u001b[0m\u001b[0;34m,\u001b[0m \u001b[0mquery_params\u001b[0m\u001b[0;34m=\u001b[0m\u001b[0mquery_params\u001b[0m\u001b[0;34m,\u001b[0m \u001b[0mheaders\u001b[0m\u001b[0;34m=\u001b[0m\u001b[0mheader_params\u001b[0m\u001b[0;34m,\u001b[0m\u001b[0;34m\u001b[0m\u001b[0;34m\u001b[0m\u001b[0m\n\u001b[1;32m    198\u001b[0m                 \u001b[0mpost_params\u001b[0m\u001b[0;34m=\u001b[0m\u001b[0mpost_params\u001b[0m\u001b[0;34m,\u001b[0m \u001b[0mbody\u001b[0m\u001b[0;34m=\u001b[0m\u001b[0mbody\u001b[0m\u001b[0;34m,\u001b[0m\u001b[0;34m\u001b[0m\u001b[0;34m\u001b[0m\u001b[0m\n",
            "\u001b[0;32m/usr/local/lib/python3.10/dist-packages/pinecone/core/client/api_client.py\u001b[0m in \u001b[0;36mrequest\u001b[0;34m(self, method, url, query_params, headers, post_params, body, _preload_content, _request_timeout)\u001b[0m\n\u001b[1;32m    453\u001b[0m                                             body=body)\n\u001b[1;32m    454\u001b[0m         \u001b[0;32melif\u001b[0m \u001b[0mmethod\u001b[0m \u001b[0;34m==\u001b[0m \u001b[0;34m\"POST\"\u001b[0m\u001b[0;34m:\u001b[0m\u001b[0;34m\u001b[0m\u001b[0;34m\u001b[0m\u001b[0m\n\u001b[0;32m--> 455\u001b[0;31m             return self.rest_client.POST(url,\n\u001b[0m\u001b[1;32m    456\u001b[0m                                          \u001b[0mquery_params\u001b[0m\u001b[0;34m=\u001b[0m\u001b[0mquery_params\u001b[0m\u001b[0;34m,\u001b[0m\u001b[0;34m\u001b[0m\u001b[0;34m\u001b[0m\u001b[0m\n\u001b[1;32m    457\u001b[0m                                          \u001b[0mheaders\u001b[0m\u001b[0;34m=\u001b[0m\u001b[0mheaders\u001b[0m\u001b[0;34m,\u001b[0m\u001b[0;34m\u001b[0m\u001b[0;34m\u001b[0m\u001b[0m\n",
            "\u001b[0;32m/usr/local/lib/python3.10/dist-packages/pinecone/core/client/rest.py\u001b[0m in \u001b[0;36mPOST\u001b[0;34m(self, url, headers, query_params, post_params, body, _preload_content, _request_timeout)\u001b[0m\n\u001b[1;32m    300\u001b[0m     def POST(self, url, headers=None, query_params=None, post_params=None,\n\u001b[1;32m    301\u001b[0m              body=None, _preload_content=True, _request_timeout=None):\n\u001b[0;32m--> 302\u001b[0;31m         return self.request(\"POST\", url,\n\u001b[0m\u001b[1;32m    303\u001b[0m                             \u001b[0mheaders\u001b[0m\u001b[0;34m=\u001b[0m\u001b[0mheaders\u001b[0m\u001b[0;34m,\u001b[0m\u001b[0;34m\u001b[0m\u001b[0;34m\u001b[0m\u001b[0m\n\u001b[1;32m    304\u001b[0m                             \u001b[0mquery_params\u001b[0m\u001b[0;34m=\u001b[0m\u001b[0mquery_params\u001b[0m\u001b[0;34m,\u001b[0m\u001b[0;34m\u001b[0m\u001b[0;34m\u001b[0m\u001b[0m\n",
            "\u001b[0;32m/usr/local/lib/python3.10/dist-packages/pinecone/core/client/rest.py\u001b[0m in \u001b[0;36mrequest\u001b[0;34m(self, method, url, query_params, headers, body, post_params, _preload_content, _request_timeout)\u001b[0m\n\u001b[1;32m    259\u001b[0m                 \u001b[0;32mraise\u001b[0m \u001b[0mServiceException\u001b[0m\u001b[0;34m(\u001b[0m\u001b[0mhttp_resp\u001b[0m\u001b[0;34m=\u001b[0m\u001b[0mr\u001b[0m\u001b[0;34m)\u001b[0m\u001b[0;34m\u001b[0m\u001b[0;34m\u001b[0m\u001b[0m\n\u001b[1;32m    260\u001b[0m \u001b[0;34m\u001b[0m\u001b[0m\n\u001b[0;32m--> 261\u001b[0;31m             \u001b[0;32mraise\u001b[0m \u001b[0mPineconeApiException\u001b[0m\u001b[0;34m(\u001b[0m\u001b[0mhttp_resp\u001b[0m\u001b[0;34m=\u001b[0m\u001b[0mr\u001b[0m\u001b[0;34m)\u001b[0m\u001b[0;34m\u001b[0m\u001b[0;34m\u001b[0m\u001b[0m\n\u001b[0m\u001b[1;32m    262\u001b[0m \u001b[0;34m\u001b[0m\u001b[0m\n\u001b[1;32m    263\u001b[0m         \u001b[0;32mreturn\u001b[0m \u001b[0mr\u001b[0m\u001b[0;34m\u001b[0m\u001b[0;34m\u001b[0m\u001b[0m\n",
            "\u001b[0;31mPineconeApiException\u001b[0m: (409)\nReason: Conflict\nHTTP response headers: HTTPHeaderDict({'content-type': 'text/plain; charset=utf-8', 'x-pinecone-api-version': '2024-04', 'access-control-allow-origin': '*', 'vary': 'origin,access-control-request-method,access-control-request-headers', 'access-control-expose-headers': '*', 'X-Cloud-Trace-Context': '08bbfbf9347f6fb78f8ed42374e5520b', 'Date': 'Fri, 17 May 2024 15:42:40 GMT', 'Server': 'Google Frontend', 'Content-Length': '85', 'Via': '1.1 google', 'Alt-Svc': 'h3=\":443\"; ma=2592000,h3-29=\":443\"; ma=2592000'})\nHTTP response body: {\"error\":{\"code\":\"ALREADY_EXISTS\",\"message\":\"Resource  already exists\"},\"status\":409}\n"
          ]
        }
      ],
      "source": [
        "# Function to create an index if it doesn't exist\n",
        "def create_index_if_not_exists(index_name, dimension, metric, spec):\n",
        "    existing_indexes = pc.list_indexes()\n",
        "    if index_name not in existing_indexes:\n",
        "        pc.create_index(\n",
        "            name=index_name,\n",
        "            dimension=dimension,\n",
        "            metric=metric,\n",
        "            spec=spec\n",
        "        )\n",
        "        print(f\"Index '{index_name}' created successfully.\")\n",
        "    else:\n",
        "        print(f\"Index '{index_name}' already exists.\")\n",
        "\n",
        "# Usage\n",
        "create_index_if_not_exists(\n",
        "    index_name=\"bini_rag\",\n",
        "    dimension=1536,\n",
        "    metric=\"dotproduct\",\n",
        "    spec=ServerlessSpec(cloud=\"aws\", region=\"us-east-1\")\n",
        ")"
      ]
    },
    {
      "cell_type": "code",
      "execution_count": null,
      "metadata": {
        "id": "5mMg78IH6AsZ"
      },
      "outputs": [],
      "source": [
        "pinecone_index = pc.Index(\"bini_rag\")"
      ]
    },
    {
      "cell_type": "code",
      "execution_count": null,
      "metadata": {
        "id": "BSBQ8--857HZ"
      },
      "outputs": [],
      "source": [
        "vector_store = PineconeVectorStore(\n",
        "    pinecone_index=pinecone_index,\n",
        "    add_sparse_vector=True,\n",
        ")"
      ]
    },
    {
      "cell_type": "markdown",
      "metadata": {
        "id": "5-UmL-nTUjaL"
      },
      "source": [
        "# Indexing"
      ]
    },
    {
      "cell_type": "code",
      "execution_count": null,
      "metadata": {
        "id": "qH5nB2qxUnAn"
      },
      "outputs": [],
      "source": [
        "# Specify your OpenAI API key and the embedding model you want to use\n",
        "api_key = \"sk-proj-ccOo3JXmy0uUY29D3pKyT3BlbkFJKuYzjzVkpD4tkEwkCQZM\"\n",
        "embedding_model = \"text-embedding-3-small\"  # Replace with the actual model name\n",
        "\n",
        "# Initialize the OpenAIEmbedding with the specified model\n",
        "embed_model = OpenAIEmbedding(api_key=api_key, model=embedding_model)\n",
        "\n",
        "# Assume astra_db_store is already initialized\n",
        "storage_context = StorageContext.from_defaults(vector_store=vector_store)"
      ]
    },
    {
      "cell_type": "code",
      "execution_count": null,
      "metadata": {
        "id": "03n6RRKlRaTF"
      },
      "outputs": [],
      "source": [
        "# Initialize the VectorStoreIndex with the nodes and storage context\n",
        "index = VectorStoreIndex(\n",
        "    nodes=nodes,\n",
        "    storage_context=storage_context,\n",
        "    embed_model=embed_model,\n",
        ")"
      ]
    },
    {
      "cell_type": "code",
      "execution_count": null,
      "metadata": {
        "id": "SAFJx_XYR8FY"
      },
      "outputs": [],
      "source": [
        "# Create the VectorStoreIndex using the existing Pinecone collection\n",
        "index = VectorStoreIndex.from_vector_store(\n",
        "    vector_store,\n",
        ")"
      ]
    },
    {
      "cell_type": "markdown",
      "metadata": {
        "id": "zxWSNet00fIY"
      },
      "source": [
        "# Querying"
      ]
    },
    {
      "cell_type": "code",
      "execution_count": null,
      "metadata": {
        "id": "tnU6lIaowZ28"
      },
      "outputs": [],
      "source": [
        "# Set up the query engine\n",
        "query_engine = index.as_query_engine(vector_store_query_mode=\"hybrid\")"
      ]
    },
    {
      "cell_type": "code",
      "execution_count": null,
      "metadata": {
        "id": "JqH4NUYG48gb"
      },
      "outputs": [],
      "source": [
        "# Example query\n",
        "response = query_engine.query(\"What is Colet's full name?\")\n",
        "print(response)"
      ]
    }
  ],
  "metadata": {
    "colab": {
      "provenance": []
    },
    "kernelspec": {
      "display_name": "Python 3",
      "name": "python3"
    },
    "language_info": {
      "name": "python"
    },
    "widgets": {
      "application/vnd.jupyter.widget-state+json": {
        "005cab1b437942e59159ef0d34e1ee5b": {
          "model_module": "@jupyter-widgets/base",
          "model_module_version": "1.2.0",
          "model_name": "LayoutModel",
          "state": {
            "_model_module": "@jupyter-widgets/base",
            "_model_module_version": "1.2.0",
            "_model_name": "LayoutModel",
            "_view_count": null,
            "_view_module": "@jupyter-widgets/base",
            "_view_module_version": "1.2.0",
            "_view_name": "LayoutView",
            "align_content": null,
            "align_items": null,
            "align_self": null,
            "border": null,
            "bottom": null,
            "display": null,
            "flex": null,
            "flex_flow": null,
            "grid_area": null,
            "grid_auto_columns": null,
            "grid_auto_flow": null,
            "grid_auto_rows": null,
            "grid_column": null,
            "grid_gap": null,
            "grid_row": null,
            "grid_template_areas": null,
            "grid_template_columns": null,
            "grid_template_rows": null,
            "height": null,
            "justify_content": null,
            "justify_items": null,
            "left": null,
            "margin": null,
            "max_height": null,
            "max_width": null,
            "min_height": null,
            "min_width": null,
            "object_fit": null,
            "object_position": null,
            "order": null,
            "overflow": null,
            "overflow_x": null,
            "overflow_y": null,
            "padding": null,
            "right": null,
            "top": null,
            "visibility": null,
            "width": null
          }
        },
        "072432ea48bd4931a3c994be742c794c": {
          "model_module": "@jupyter-widgets/base",
          "model_module_version": "1.2.0",
          "model_name": "LayoutModel",
          "state": {
            "_model_module": "@jupyter-widgets/base",
            "_model_module_version": "1.2.0",
            "_model_name": "LayoutModel",
            "_view_count": null,
            "_view_module": "@jupyter-widgets/base",
            "_view_module_version": "1.2.0",
            "_view_name": "LayoutView",
            "align_content": null,
            "align_items": null,
            "align_self": null,
            "border": null,
            "bottom": null,
            "display": null,
            "flex": null,
            "flex_flow": null,
            "grid_area": null,
            "grid_auto_columns": null,
            "grid_auto_flow": null,
            "grid_auto_rows": null,
            "grid_column": null,
            "grid_gap": null,
            "grid_row": null,
            "grid_template_areas": null,
            "grid_template_columns": null,
            "grid_template_rows": null,
            "height": null,
            "justify_content": null,
            "justify_items": null,
            "left": null,
            "margin": null,
            "max_height": null,
            "max_width": null,
            "min_height": null,
            "min_width": null,
            "object_fit": null,
            "object_position": null,
            "order": null,
            "overflow": null,
            "overflow_x": null,
            "overflow_y": null,
            "padding": null,
            "right": null,
            "top": null,
            "visibility": null,
            "width": null
          }
        },
        "183d4d961a2b4e66a2b5499b97b4bfe4": {
          "model_module": "@jupyter-widgets/controls",
          "model_module_version": "1.5.0",
          "model_name": "HTMLModel",
          "state": {
            "_dom_classes": [],
            "_model_module": "@jupyter-widgets/controls",
            "_model_module_version": "1.5.0",
            "_model_name": "HTMLModel",
            "_view_count": null,
            "_view_module": "@jupyter-widgets/controls",
            "_view_module_version": "1.5.0",
            "_view_name": "HTMLView",
            "description": "",
            "description_tooltip": null,
            "layout": "IPY_MODEL_072432ea48bd4931a3c994be742c794c",
            "placeholder": "​",
            "style": "IPY_MODEL_ad27a5cddf264277868b30fb0b401950",
            "value": "Converting text to PDFs: 100%"
          }
        },
        "361131c42bbd48a58489af01b338b996": {
          "model_module": "@jupyter-widgets/base",
          "model_module_version": "1.2.0",
          "model_name": "LayoutModel",
          "state": {
            "_model_module": "@jupyter-widgets/base",
            "_model_module_version": "1.2.0",
            "_model_name": "LayoutModel",
            "_view_count": null,
            "_view_module": "@jupyter-widgets/base",
            "_view_module_version": "1.2.0",
            "_view_name": "LayoutView",
            "align_content": null,
            "align_items": null,
            "align_self": null,
            "border": null,
            "bottom": null,
            "display": null,
            "flex": null,
            "flex_flow": null,
            "grid_area": null,
            "grid_auto_columns": null,
            "grid_auto_flow": null,
            "grid_auto_rows": null,
            "grid_column": null,
            "grid_gap": null,
            "grid_row": null,
            "grid_template_areas": null,
            "grid_template_columns": null,
            "grid_template_rows": null,
            "height": null,
            "justify_content": null,
            "justify_items": null,
            "left": null,
            "margin": null,
            "max_height": null,
            "max_width": null,
            "min_height": null,
            "min_width": null,
            "object_fit": null,
            "object_position": null,
            "order": null,
            "overflow": null,
            "overflow_x": null,
            "overflow_y": null,
            "padding": null,
            "right": null,
            "top": null,
            "visibility": null,
            "width": null
          }
        },
        "3be1f0d6e2ba4437a6727b21e340f211": {
          "model_module": "@jupyter-widgets/controls",
          "model_module_version": "1.5.0",
          "model_name": "FloatProgressModel",
          "state": {
            "_dom_classes": [],
            "_model_module": "@jupyter-widgets/controls",
            "_model_module_version": "1.5.0",
            "_model_name": "FloatProgressModel",
            "_view_count": null,
            "_view_module": "@jupyter-widgets/controls",
            "_view_module_version": "1.5.0",
            "_view_name": "ProgressView",
            "bar_style": "success",
            "description": "",
            "description_tooltip": null,
            "layout": "IPY_MODEL_47d406637b5c43c584a9bf2adad193a1",
            "max": 51,
            "min": 0,
            "orientation": "horizontal",
            "style": "IPY_MODEL_cacf9fbcb3564e12afb5fb7f66d33d04",
            "value": 51
          }
        },
        "47d406637b5c43c584a9bf2adad193a1": {
          "model_module": "@jupyter-widgets/base",
          "model_module_version": "1.2.0",
          "model_name": "LayoutModel",
          "state": {
            "_model_module": "@jupyter-widgets/base",
            "_model_module_version": "1.2.0",
            "_model_name": "LayoutModel",
            "_view_count": null,
            "_view_module": "@jupyter-widgets/base",
            "_view_module_version": "1.2.0",
            "_view_name": "LayoutView",
            "align_content": null,
            "align_items": null,
            "align_self": null,
            "border": null,
            "bottom": null,
            "display": null,
            "flex": null,
            "flex_flow": null,
            "grid_area": null,
            "grid_auto_columns": null,
            "grid_auto_flow": null,
            "grid_auto_rows": null,
            "grid_column": null,
            "grid_gap": null,
            "grid_row": null,
            "grid_template_areas": null,
            "grid_template_columns": null,
            "grid_template_rows": null,
            "height": null,
            "justify_content": null,
            "justify_items": null,
            "left": null,
            "margin": null,
            "max_height": null,
            "max_width": null,
            "min_height": null,
            "min_width": null,
            "object_fit": null,
            "object_position": null,
            "order": null,
            "overflow": null,
            "overflow_x": null,
            "overflow_y": null,
            "padding": null,
            "right": null,
            "top": null,
            "visibility": null,
            "width": null
          }
        },
        "4aa4826c3d004216a4db3681c8f2c512": {
          "model_module": "@jupyter-widgets/controls",
          "model_module_version": "1.5.0",
          "model_name": "HTMLModel",
          "state": {
            "_dom_classes": [],
            "_model_module": "@jupyter-widgets/controls",
            "_model_module_version": "1.5.0",
            "_model_name": "HTMLModel",
            "_view_count": null,
            "_view_module": "@jupyter-widgets/controls",
            "_view_module_version": "1.5.0",
            "_view_name": "HTMLView",
            "description": "",
            "description_tooltip": null,
            "layout": "IPY_MODEL_361131c42bbd48a58489af01b338b996",
            "placeholder": "​",
            "style": "IPY_MODEL_fbc7e44e4c274e75b7b4ee78af81e476",
            "value": "Processing documents: 100%"
          }
        },
        "59d548052eb44c66a0f55254e711f893": {
          "model_module": "@jupyter-widgets/base",
          "model_module_version": "1.2.0",
          "model_name": "LayoutModel",
          "state": {
            "_model_module": "@jupyter-widgets/base",
            "_model_module_version": "1.2.0",
            "_model_name": "LayoutModel",
            "_view_count": null,
            "_view_module": "@jupyter-widgets/base",
            "_view_module_version": "1.2.0",
            "_view_name": "LayoutView",
            "align_content": null,
            "align_items": null,
            "align_self": null,
            "border": null,
            "bottom": null,
            "display": null,
            "flex": null,
            "flex_flow": null,
            "grid_area": null,
            "grid_auto_columns": null,
            "grid_auto_flow": null,
            "grid_auto_rows": null,
            "grid_column": null,
            "grid_gap": null,
            "grid_row": null,
            "grid_template_areas": null,
            "grid_template_columns": null,
            "grid_template_rows": null,
            "height": null,
            "justify_content": null,
            "justify_items": null,
            "left": null,
            "margin": null,
            "max_height": null,
            "max_width": null,
            "min_height": null,
            "min_width": null,
            "object_fit": null,
            "object_position": null,
            "order": null,
            "overflow": null,
            "overflow_x": null,
            "overflow_y": null,
            "padding": null,
            "right": null,
            "top": null,
            "visibility": null,
            "width": null
          }
        },
        "684ddddde59f48bc84c054e448397426": {
          "model_module": "@jupyter-widgets/controls",
          "model_module_version": "1.5.0",
          "model_name": "ProgressStyleModel",
          "state": {
            "_model_module": "@jupyter-widgets/controls",
            "_model_module_version": "1.5.0",
            "_model_name": "ProgressStyleModel",
            "_view_count": null,
            "_view_module": "@jupyter-widgets/base",
            "_view_module_version": "1.2.0",
            "_view_name": "StyleView",
            "bar_color": null,
            "description_width": ""
          }
        },
        "6d35769d8dc8438a9649b1c27f80ffd6": {
          "model_module": "@jupyter-widgets/base",
          "model_module_version": "1.2.0",
          "model_name": "LayoutModel",
          "state": {
            "_model_module": "@jupyter-widgets/base",
            "_model_module_version": "1.2.0",
            "_model_name": "LayoutModel",
            "_view_count": null,
            "_view_module": "@jupyter-widgets/base",
            "_view_module_version": "1.2.0",
            "_view_name": "LayoutView",
            "align_content": null,
            "align_items": null,
            "align_self": null,
            "border": null,
            "bottom": null,
            "display": null,
            "flex": null,
            "flex_flow": null,
            "grid_area": null,
            "grid_auto_columns": null,
            "grid_auto_flow": null,
            "grid_auto_rows": null,
            "grid_column": null,
            "grid_gap": null,
            "grid_row": null,
            "grid_template_areas": null,
            "grid_template_columns": null,
            "grid_template_rows": null,
            "height": null,
            "justify_content": null,
            "justify_items": null,
            "left": null,
            "margin": null,
            "max_height": null,
            "max_width": null,
            "min_height": null,
            "min_width": null,
            "object_fit": null,
            "object_position": null,
            "order": null,
            "overflow": null,
            "overflow_x": null,
            "overflow_y": null,
            "padding": null,
            "right": null,
            "top": null,
            "visibility": null,
            "width": null
          }
        },
        "6deb31aa55ad4d25a500d625ea80dbeb": {
          "model_module": "@jupyter-widgets/base",
          "model_module_version": "1.2.0",
          "model_name": "LayoutModel",
          "state": {
            "_model_module": "@jupyter-widgets/base",
            "_model_module_version": "1.2.0",
            "_model_name": "LayoutModel",
            "_view_count": null,
            "_view_module": "@jupyter-widgets/base",
            "_view_module_version": "1.2.0",
            "_view_name": "LayoutView",
            "align_content": null,
            "align_items": null,
            "align_self": null,
            "border": null,
            "bottom": null,
            "display": null,
            "flex": null,
            "flex_flow": null,
            "grid_area": null,
            "grid_auto_columns": null,
            "grid_auto_flow": null,
            "grid_auto_rows": null,
            "grid_column": null,
            "grid_gap": null,
            "grid_row": null,
            "grid_template_areas": null,
            "grid_template_columns": null,
            "grid_template_rows": null,
            "height": null,
            "justify_content": null,
            "justify_items": null,
            "left": null,
            "margin": null,
            "max_height": null,
            "max_width": null,
            "min_height": null,
            "min_width": null,
            "object_fit": null,
            "object_position": null,
            "order": null,
            "overflow": null,
            "overflow_x": null,
            "overflow_y": null,
            "padding": null,
            "right": null,
            "top": null,
            "visibility": null,
            "width": null
          }
        },
        "7d51439f872f435589690ae006ac3768": {
          "model_module": "@jupyter-widgets/controls",
          "model_module_version": "1.5.0",
          "model_name": "FloatProgressModel",
          "state": {
            "_dom_classes": [],
            "_model_module": "@jupyter-widgets/controls",
            "_model_module_version": "1.5.0",
            "_model_name": "FloatProgressModel",
            "_view_count": null,
            "_view_module": "@jupyter-widgets/controls",
            "_view_module_version": "1.5.0",
            "_view_name": "ProgressView",
            "bar_style": "success",
            "description": "",
            "description_tooltip": null,
            "layout": "IPY_MODEL_59d548052eb44c66a0f55254e711f893",
            "max": 51,
            "min": 0,
            "orientation": "horizontal",
            "style": "IPY_MODEL_7e035d38ccc5401399dc391affb3d943",
            "value": 51
          }
        },
        "7e035d38ccc5401399dc391affb3d943": {
          "model_module": "@jupyter-widgets/controls",
          "model_module_version": "1.5.0",
          "model_name": "ProgressStyleModel",
          "state": {
            "_model_module": "@jupyter-widgets/controls",
            "_model_module_version": "1.5.0",
            "_model_name": "ProgressStyleModel",
            "_view_count": null,
            "_view_module": "@jupyter-widgets/base",
            "_view_module_version": "1.2.0",
            "_view_name": "StyleView",
            "bar_color": null,
            "description_width": ""
          }
        },
        "8308e7496953425da5c51658cd517828": {
          "model_module": "@jupyter-widgets/controls",
          "model_module_version": "1.5.0",
          "model_name": "HBoxModel",
          "state": {
            "_dom_classes": [],
            "_model_module": "@jupyter-widgets/controls",
            "_model_module_version": "1.5.0",
            "_model_name": "HBoxModel",
            "_view_count": null,
            "_view_module": "@jupyter-widgets/controls",
            "_view_module_version": "1.5.0",
            "_view_name": "HBoxView",
            "box_style": "",
            "children": [
              "IPY_MODEL_fc80ee312ecd4470aa706f7d4123d4b6",
              "IPY_MODEL_d829d94163bb49368a0fbdd18c7d23f1",
              "IPY_MODEL_d20f928f44c3457ca07ed5ad69536d0f"
            ],
            "layout": "IPY_MODEL_6d35769d8dc8438a9649b1c27f80ffd6"
          }
        },
        "851afccacf484b6bba253d1071e59b09": {
          "model_module": "@jupyter-widgets/base",
          "model_module_version": "1.2.0",
          "model_name": "LayoutModel",
          "state": {
            "_model_module": "@jupyter-widgets/base",
            "_model_module_version": "1.2.0",
            "_model_name": "LayoutModel",
            "_view_count": null,
            "_view_module": "@jupyter-widgets/base",
            "_view_module_version": "1.2.0",
            "_view_name": "LayoutView",
            "align_content": null,
            "align_items": null,
            "align_self": null,
            "border": null,
            "bottom": null,
            "display": null,
            "flex": null,
            "flex_flow": null,
            "grid_area": null,
            "grid_auto_columns": null,
            "grid_auto_flow": null,
            "grid_auto_rows": null,
            "grid_column": null,
            "grid_gap": null,
            "grid_row": null,
            "grid_template_areas": null,
            "grid_template_columns": null,
            "grid_template_rows": null,
            "height": null,
            "justify_content": null,
            "justify_items": null,
            "left": null,
            "margin": null,
            "max_height": null,
            "max_width": null,
            "min_height": null,
            "min_width": null,
            "object_fit": null,
            "object_position": null,
            "order": null,
            "overflow": null,
            "overflow_x": null,
            "overflow_y": null,
            "padding": null,
            "right": null,
            "top": null,
            "visibility": null,
            "width": null
          }
        },
        "9038065223cf441aa88cc68bd1e16e7a": {
          "model_module": "@jupyter-widgets/controls",
          "model_module_version": "1.5.0",
          "model_name": "HBoxModel",
          "state": {
            "_dom_classes": [],
            "_model_module": "@jupyter-widgets/controls",
            "_model_module_version": "1.5.0",
            "_model_name": "HBoxModel",
            "_view_count": null,
            "_view_module": "@jupyter-widgets/controls",
            "_view_module_version": "1.5.0",
            "_view_name": "HBoxView",
            "box_style": "",
            "children": [
              "IPY_MODEL_4aa4826c3d004216a4db3681c8f2c512",
              "IPY_MODEL_7d51439f872f435589690ae006ac3768",
              "IPY_MODEL_c3343d029a574540b4a5dc0a6f8fc5cb"
            ],
            "layout": "IPY_MODEL_851afccacf484b6bba253d1071e59b09"
          }
        },
        "922d3efc02c74a289314ede4e518f8f2": {
          "model_module": "@jupyter-widgets/base",
          "model_module_version": "1.2.0",
          "model_name": "LayoutModel",
          "state": {
            "_model_module": "@jupyter-widgets/base",
            "_model_module_version": "1.2.0",
            "_model_name": "LayoutModel",
            "_view_count": null,
            "_view_module": "@jupyter-widgets/base",
            "_view_module_version": "1.2.0",
            "_view_name": "LayoutView",
            "align_content": null,
            "align_items": null,
            "align_self": null,
            "border": null,
            "bottom": null,
            "display": null,
            "flex": null,
            "flex_flow": null,
            "grid_area": null,
            "grid_auto_columns": null,
            "grid_auto_flow": null,
            "grid_auto_rows": null,
            "grid_column": null,
            "grid_gap": null,
            "grid_row": null,
            "grid_template_areas": null,
            "grid_template_columns": null,
            "grid_template_rows": null,
            "height": null,
            "justify_content": null,
            "justify_items": null,
            "left": null,
            "margin": null,
            "max_height": null,
            "max_width": null,
            "min_height": null,
            "min_width": null,
            "object_fit": null,
            "object_position": null,
            "order": null,
            "overflow": null,
            "overflow_x": null,
            "overflow_y": null,
            "padding": null,
            "right": null,
            "top": null,
            "visibility": null,
            "width": null
          }
        },
        "9bcf711c8f9645efa5ec41ffb955c4c1": {
          "model_module": "@jupyter-widgets/controls",
          "model_module_version": "1.5.0",
          "model_name": "DescriptionStyleModel",
          "state": {
            "_model_module": "@jupyter-widgets/controls",
            "_model_module_version": "1.5.0",
            "_model_name": "DescriptionStyleModel",
            "_view_count": null,
            "_view_module": "@jupyter-widgets/base",
            "_view_module_version": "1.2.0",
            "_view_name": "StyleView",
            "description_width": ""
          }
        },
        "9c63dd39138342feb79632b14cfe8ff1": {
          "model_module": "@jupyter-widgets/controls",
          "model_module_version": "1.5.0",
          "model_name": "DescriptionStyleModel",
          "state": {
            "_model_module": "@jupyter-widgets/controls",
            "_model_module_version": "1.5.0",
            "_model_name": "DescriptionStyleModel",
            "_view_count": null,
            "_view_module": "@jupyter-widgets/base",
            "_view_module_version": "1.2.0",
            "_view_name": "StyleView",
            "description_width": ""
          }
        },
        "ad27a5cddf264277868b30fb0b401950": {
          "model_module": "@jupyter-widgets/controls",
          "model_module_version": "1.5.0",
          "model_name": "DescriptionStyleModel",
          "state": {
            "_model_module": "@jupyter-widgets/controls",
            "_model_module_version": "1.5.0",
            "_model_name": "DescriptionStyleModel",
            "_view_count": null,
            "_view_module": "@jupyter-widgets/base",
            "_view_module_version": "1.2.0",
            "_view_name": "StyleView",
            "description_width": ""
          }
        },
        "b01abfe204cc4d5a8d934455d13c42df": {
          "model_module": "@jupyter-widgets/base",
          "model_module_version": "1.2.0",
          "model_name": "LayoutModel",
          "state": {
            "_model_module": "@jupyter-widgets/base",
            "_model_module_version": "1.2.0",
            "_model_name": "LayoutModel",
            "_view_count": null,
            "_view_module": "@jupyter-widgets/base",
            "_view_module_version": "1.2.0",
            "_view_name": "LayoutView",
            "align_content": null,
            "align_items": null,
            "align_self": null,
            "border": null,
            "bottom": null,
            "display": null,
            "flex": null,
            "flex_flow": null,
            "grid_area": null,
            "grid_auto_columns": null,
            "grid_auto_flow": null,
            "grid_auto_rows": null,
            "grid_column": null,
            "grid_gap": null,
            "grid_row": null,
            "grid_template_areas": null,
            "grid_template_columns": null,
            "grid_template_rows": null,
            "height": null,
            "justify_content": null,
            "justify_items": null,
            "left": null,
            "margin": null,
            "max_height": null,
            "max_width": null,
            "min_height": null,
            "min_width": null,
            "object_fit": null,
            "object_position": null,
            "order": null,
            "overflow": null,
            "overflow_x": null,
            "overflow_y": null,
            "padding": null,
            "right": null,
            "top": null,
            "visibility": null,
            "width": null
          }
        },
        "b036936738974711bbc8cc23668381a0": {
          "model_module": "@jupyter-widgets/base",
          "model_module_version": "1.2.0",
          "model_name": "LayoutModel",
          "state": {
            "_model_module": "@jupyter-widgets/base",
            "_model_module_version": "1.2.0",
            "_model_name": "LayoutModel",
            "_view_count": null,
            "_view_module": "@jupyter-widgets/base",
            "_view_module_version": "1.2.0",
            "_view_name": "LayoutView",
            "align_content": null,
            "align_items": null,
            "align_self": null,
            "border": null,
            "bottom": null,
            "display": null,
            "flex": null,
            "flex_flow": null,
            "grid_area": null,
            "grid_auto_columns": null,
            "grid_auto_flow": null,
            "grid_auto_rows": null,
            "grid_column": null,
            "grid_gap": null,
            "grid_row": null,
            "grid_template_areas": null,
            "grid_template_columns": null,
            "grid_template_rows": null,
            "height": null,
            "justify_content": null,
            "justify_items": null,
            "left": null,
            "margin": null,
            "max_height": null,
            "max_width": null,
            "min_height": null,
            "min_width": null,
            "object_fit": null,
            "object_position": null,
            "order": null,
            "overflow": null,
            "overflow_x": null,
            "overflow_y": null,
            "padding": null,
            "right": null,
            "top": null,
            "visibility": null,
            "width": null
          }
        },
        "b556ee467b4a4aa08fd2705acb6bf239": {
          "model_module": "@jupyter-widgets/controls",
          "model_module_version": "1.5.0",
          "model_name": "DescriptionStyleModel",
          "state": {
            "_model_module": "@jupyter-widgets/controls",
            "_model_module_version": "1.5.0",
            "_model_name": "DescriptionStyleModel",
            "_view_count": null,
            "_view_module": "@jupyter-widgets/base",
            "_view_module_version": "1.2.0",
            "_view_name": "StyleView",
            "description_width": ""
          }
        },
        "c3343d029a574540b4a5dc0a6f8fc5cb": {
          "model_module": "@jupyter-widgets/controls",
          "model_module_version": "1.5.0",
          "model_name": "HTMLModel",
          "state": {
            "_dom_classes": [],
            "_model_module": "@jupyter-widgets/controls",
            "_model_module_version": "1.5.0",
            "_model_name": "HTMLModel",
            "_view_count": null,
            "_view_module": "@jupyter-widgets/controls",
            "_view_module_version": "1.5.0",
            "_view_name": "HTMLView",
            "description": "",
            "description_tooltip": null,
            "layout": "IPY_MODEL_b01abfe204cc4d5a8d934455d13c42df",
            "placeholder": "​",
            "style": "IPY_MODEL_b556ee467b4a4aa08fd2705acb6bf239",
            "value": " 51/51 [12:45&lt;00:00, 23.13s/it]"
          }
        },
        "cacf9fbcb3564e12afb5fb7f66d33d04": {
          "model_module": "@jupyter-widgets/controls",
          "model_module_version": "1.5.0",
          "model_name": "ProgressStyleModel",
          "state": {
            "_model_module": "@jupyter-widgets/controls",
            "_model_module_version": "1.5.0",
            "_model_name": "ProgressStyleModel",
            "_view_count": null,
            "_view_module": "@jupyter-widgets/base",
            "_view_module_version": "1.2.0",
            "_view_name": "StyleView",
            "bar_color": null,
            "description_width": ""
          }
        },
        "cbf9f742b62a42ceac7440aa543c227d": {
          "model_module": "@jupyter-widgets/controls",
          "model_module_version": "1.5.0",
          "model_name": "HTMLModel",
          "state": {
            "_dom_classes": [],
            "_model_module": "@jupyter-widgets/controls",
            "_model_module_version": "1.5.0",
            "_model_name": "HTMLModel",
            "_view_count": null,
            "_view_module": "@jupyter-widgets/controls",
            "_view_module_version": "1.5.0",
            "_view_name": "HTMLView",
            "description": "",
            "description_tooltip": null,
            "layout": "IPY_MODEL_922d3efc02c74a289314ede4e518f8f2",
            "placeholder": "​",
            "style": "IPY_MODEL_f0744ffe98354b0b9ee6251dadf54aa3",
            "value": " 51/51 [00:15&lt;00:00,  3.49it/s]"
          }
        },
        "d20f928f44c3457ca07ed5ad69536d0f": {
          "model_module": "@jupyter-widgets/controls",
          "model_module_version": "1.5.0",
          "model_name": "HTMLModel",
          "state": {
            "_dom_classes": [],
            "_model_module": "@jupyter-widgets/controls",
            "_model_module_version": "1.5.0",
            "_model_name": "HTMLModel",
            "_view_count": null,
            "_view_module": "@jupyter-widgets/controls",
            "_view_module_version": "1.5.0",
            "_view_name": "HTMLView",
            "description": "",
            "description_tooltip": null,
            "layout": "IPY_MODEL_6deb31aa55ad4d25a500d625ea80dbeb",
            "placeholder": "​",
            "style": "IPY_MODEL_9c63dd39138342feb79632b14cfe8ff1",
            "value": " 51/51 [00:24&lt;00:00,  3.58it/s]"
          }
        },
        "d829d94163bb49368a0fbdd18c7d23f1": {
          "model_module": "@jupyter-widgets/controls",
          "model_module_version": "1.5.0",
          "model_name": "FloatProgressModel",
          "state": {
            "_dom_classes": [],
            "_model_module": "@jupyter-widgets/controls",
            "_model_module_version": "1.5.0",
            "_model_name": "FloatProgressModel",
            "_view_count": null,
            "_view_module": "@jupyter-widgets/controls",
            "_view_module_version": "1.5.0",
            "_view_name": "ProgressView",
            "bar_style": "success",
            "description": "",
            "description_tooltip": null,
            "layout": "IPY_MODEL_e8b84de5fae647dc917c453226b8c9d2",
            "max": 51,
            "min": 0,
            "orientation": "horizontal",
            "style": "IPY_MODEL_684ddddde59f48bc84c054e448397426",
            "value": 51
          }
        },
        "db1f57fb49d546818b4e16e0c9d1729b": {
          "model_module": "@jupyter-widgets/controls",
          "model_module_version": "1.5.0",
          "model_name": "HBoxModel",
          "state": {
            "_dom_classes": [],
            "_model_module": "@jupyter-widgets/controls",
            "_model_module_version": "1.5.0",
            "_model_name": "HBoxModel",
            "_view_count": null,
            "_view_module": "@jupyter-widgets/controls",
            "_view_module_version": "1.5.0",
            "_view_name": "HBoxView",
            "box_style": "",
            "children": [
              "IPY_MODEL_183d4d961a2b4e66a2b5499b97b4bfe4",
              "IPY_MODEL_3be1f0d6e2ba4437a6727b21e340f211",
              "IPY_MODEL_cbf9f742b62a42ceac7440aa543c227d"
            ],
            "layout": "IPY_MODEL_b036936738974711bbc8cc23668381a0"
          }
        },
        "e8b84de5fae647dc917c453226b8c9d2": {
          "model_module": "@jupyter-widgets/base",
          "model_module_version": "1.2.0",
          "model_name": "LayoutModel",
          "state": {
            "_model_module": "@jupyter-widgets/base",
            "_model_module_version": "1.2.0",
            "_model_name": "LayoutModel",
            "_view_count": null,
            "_view_module": "@jupyter-widgets/base",
            "_view_module_version": "1.2.0",
            "_view_name": "LayoutView",
            "align_content": null,
            "align_items": null,
            "align_self": null,
            "border": null,
            "bottom": null,
            "display": null,
            "flex": null,
            "flex_flow": null,
            "grid_area": null,
            "grid_auto_columns": null,
            "grid_auto_flow": null,
            "grid_auto_rows": null,
            "grid_column": null,
            "grid_gap": null,
            "grid_row": null,
            "grid_template_areas": null,
            "grid_template_columns": null,
            "grid_template_rows": null,
            "height": null,
            "justify_content": null,
            "justify_items": null,
            "left": null,
            "margin": null,
            "max_height": null,
            "max_width": null,
            "min_height": null,
            "min_width": null,
            "object_fit": null,
            "object_position": null,
            "order": null,
            "overflow": null,
            "overflow_x": null,
            "overflow_y": null,
            "padding": null,
            "right": null,
            "top": null,
            "visibility": null,
            "width": null
          }
        },
        "f0744ffe98354b0b9ee6251dadf54aa3": {
          "model_module": "@jupyter-widgets/controls",
          "model_module_version": "1.5.0",
          "model_name": "DescriptionStyleModel",
          "state": {
            "_model_module": "@jupyter-widgets/controls",
            "_model_module_version": "1.5.0",
            "_model_name": "DescriptionStyleModel",
            "_view_count": null,
            "_view_module": "@jupyter-widgets/base",
            "_view_module_version": "1.2.0",
            "_view_name": "StyleView",
            "description_width": ""
          }
        },
        "fbc7e44e4c274e75b7b4ee78af81e476": {
          "model_module": "@jupyter-widgets/controls",
          "model_module_version": "1.5.0",
          "model_name": "DescriptionStyleModel",
          "state": {
            "_model_module": "@jupyter-widgets/controls",
            "_model_module_version": "1.5.0",
            "_model_name": "DescriptionStyleModel",
            "_view_count": null,
            "_view_module": "@jupyter-widgets/base",
            "_view_module_version": "1.2.0",
            "_view_name": "StyleView",
            "description_width": ""
          }
        },
        "fc80ee312ecd4470aa706f7d4123d4b6": {
          "model_module": "@jupyter-widgets/controls",
          "model_module_version": "1.5.0",
          "model_name": "HTMLModel",
          "state": {
            "_dom_classes": [],
            "_model_module": "@jupyter-widgets/controls",
            "_model_module_version": "1.5.0",
            "_model_name": "HTMLModel",
            "_view_count": null,
            "_view_module": "@jupyter-widgets/controls",
            "_view_module_version": "1.5.0",
            "_view_name": "HTMLView",
            "description": "",
            "description_tooltip": null,
            "layout": "IPY_MODEL_005cab1b437942e59159ef0d34e1ee5b",
            "placeholder": "​",
            "style": "IPY_MODEL_9bcf711c8f9645efa5ec41ffb955c4c1",
            "value": "Scraping URLs for text: 100%"
          }
        }
      }
    }
  },
  "nbformat": 4,
  "nbformat_minor": 0
}
